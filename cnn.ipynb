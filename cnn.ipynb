{
 "cells": [
  {
   "cell_type": "code",
   "execution_count": 1,
   "source": [
    "import tensorflow as tf\r\n",
    "from tensorflow import keras\r\n",
    "fashion_mnist = keras.datasets.fashion_mnist\r\n",
    "(train_images,train_labels),(test_images,test_labels) = fashion_mnist.load_data()\r\n",
    "model=keras.Sequential()\r\n",
    "model.add(keras.layers.Conv2D(64,(3,3),activation='relu',input_shape=(28,28,1))) #conv卷积层，64个filter，每个filter3*3\r\n",
    "model.add(keras.layers.MaxPooling2D(2,2)) # 特征增强，池化层\r\n",
    "# model.add(keras.layers.Conv2D(64,(3,3),activation='relu')) #conv卷积层，64个filter，每个filter3*3\r\n",
    "# model.add(keras.layers.MaxPooling2D(2,2)) # 特征增强\r\n",
    "model.add(keras.layers.Flatten()) # add添加层，Flatten将二维数据压成一维\r\n",
    "model.add(keras.layers.Dense(128,activation=tf.nn.relu))\r\n",
    "model.add(keras.layers.Dense(10,activation=tf.nn.softmax)) #softmax将连续数值转换成相对概率\r\n",
    "train_images_scaled = train_images / 255 # normalization/scaling\r\n",
    "# optimizer优化器 sparse稀疏 metrics指标（这里想展示精度）\r\n",
    "model.compile(optimizer=tf.optimizers.Adam(),loss=tf.losses.sparse_categorical_crossentropy,metrics=['accuracy'])\r\n",
    "model.fit(train_images_scaled.reshape(-1,28,28,1),train_labels,epochs=5) # 精确度比起全连接网络高很多，但训练时间较长; -1表示第一个维度不变"
   ],
   "outputs": [
    {
     "output_type": "stream",
     "name": "stdout",
     "text": [
      "Epoch 1/5\n",
      "1875/1875 [==============================] - 31s 17ms/step - loss: 0.3811 - accuracy: 0.8651\n",
      "Epoch 2/5\n",
      "1875/1875 [==============================] - 32s 17ms/step - loss: 0.2568 - accuracy: 0.9064\n",
      "Epoch 3/5\n",
      "1875/1875 [==============================] - 36s 19ms/step - loss: 0.2099 - accuracy: 0.9224\n",
      "Epoch 4/5\n",
      "1875/1875 [==============================] - 33s 17ms/step - loss: 0.1773 - accuracy: 0.9347\n",
      "Epoch 5/5\n",
      "1875/1875 [==============================] - 34s 18ms/step - loss: 0.1500 - accuracy: 0.9445\n"
     ]
    },
    {
     "output_type": "execute_result",
     "data": {
      "text/plain": [
       "<tensorflow.python.keras.callbacks.History at 0x22d5b929d90>"
      ]
     },
     "metadata": {},
     "execution_count": 1
    }
   ],
   "metadata": {}
  },
  {
   "cell_type": "code",
   "execution_count": 2,
   "source": [
    "test_images_scaled = test_images/255\r\n",
    "model.evaluate(test_images_scaled.reshape(-1,28,28,1),test_labels) # -1表示第一个维度不变\r\n",
    "model.summary()\r\n",
    "print(test_images_scaled.shape)"
   ],
   "outputs": [
    {
     "output_type": "stream",
     "name": "stdout",
     "text": [
      "313/313 [==============================] - 1s 4ms/step - loss: 0.2487 - accuracy: 0.9147\n",
      "Model: \"sequential\"\n",
      "_________________________________________________________________\n",
      "Layer (type)                 Output Shape              Param #   \n",
      "=================================================================\n",
      "conv2d (Conv2D)              (None, 26, 26, 64)        640       \n",
      "_________________________________________________________________\n",
      "max_pooling2d (MaxPooling2D) (None, 13, 13, 64)        0         \n",
      "_________________________________________________________________\n",
      "flatten (Flatten)            (None, 10816)             0         \n",
      "_________________________________________________________________\n",
      "dense (Dense)                (None, 128)               1384576   \n",
      "_________________________________________________________________\n",
      "dense_1 (Dense)              (None, 10)                1290      \n",
      "=================================================================\n",
      "Total params: 1,386,506\n",
      "Trainable params: 1,386,506\n",
      "Non-trainable params: 0\n",
      "_________________________________________________________________\n",
      "(10000, 28, 28)\n"
     ]
    }
   ],
   "metadata": {}
  }
 ],
 "metadata": {
  "kernelspec": {
   "name": "python3",
   "display_name": "Python 3.8.10 64-bit ('tensorflow': conda)"
  },
  "language_info": {
   "codemirror_mode": {
    "name": "ipython",
    "version": 3
   },
   "file_extension": ".py",
   "mimetype": "text/x-python",
   "name": "python",
   "nbconvert_exporter": "python",
   "pygments_lexer": "ipython3",
   "version": "3.8.10"
  },
  "interpreter": {
   "hash": "4f8d49cc1c12cacec246f9c62a156171c37f24bf321fb76bc8a73fb98704a7dc"
  }
 },
 "nbformat": 4,
 "nbformat_minor": 5
}
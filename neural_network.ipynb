{
 "cells": [
  {
   "cell_type": "code",
   "execution_count": 2,
   "id": "524eb488-44bf-40c5-9022-b9f7b37d9e6d",
   "metadata": {},
   "outputs": [],
   "source": [
    "import tensorflow as tf\n",
    "from tensorflow import keras\n",
    "mnist = keras.datasets.fashion_mnist\n",
    "(train_images,train_labels),(test_images,test_labels) = mnist.load_data() # 将数据集分为训练和测试两部分；且每部分分为输入(images)输出(labels)。"
   ]
  },
  {
   "cell_type": "code",
   "execution_count": 5,
   "id": "4ba1c102-a68d-4423-86a8-a5c83b8bc2ce",
   "metadata": {},
   "outputs": [],
   "source": [
    "model=keras.Sequential()\n",
    "\n",
    "# Dense是将一个一维数据映射到另一个一维数据\n",
    "# Flatten是将多维的输入一维，即压平；常用于卷积层到全连接层的过渡。不影响batch大小\n",
    "model.add(keras.layers.Flatten(input_shape=(28,28))) # add添加层，Flatten将二维数据压成一维\n",
    "model.add(keras.layers.Dense(128,activation=tf.nn.relu))\n",
    "model.add(keras.layers.Dense(10,activation=tf.nn.softmax)) #softmax将连续数值转换成相对概率"
   ]
  },
  {
   "cell_type": "code",
   "execution_count": 4,
   "id": "daabd012-3658-4014-a736-cb727afea9b6",
   "metadata": {
    "tags": []
   },
   "outputs": [
    {
     "name": "stdout",
     "output_type": "stream",
     "text": [
      "Epoch 1/5\n",
      "1875/1875 [==============================] - 3s 1ms/step - loss: 0.4989 - accuracy: 0.8246: 0s - loss: 0.5194 - ac - ETA: 0s - loss: 0.5047 - accuracy\n",
      "Epoch 2/5\n",
      "1875/1875 [==============================] - 3s 1ms/step - loss: 0.3803 - accuracy: 0.8627\n",
      "Epoch 3/5\n",
      "1875/1875 [==============================] - 3s 2ms/step - loss: 0.3408 - accuracy: 0.8764\n",
      "Epoch 4/5\n",
      "1875/1875 [==============================] - 3s 1ms/step - loss: 0.3159 - accuracy: 0.8844\n",
      "Epoch 5/5\n",
      "1875/1875 [==============================] - 3s 1ms/step - loss: 0.2978 - accuracy: 0.8892\n"
     ]
    },
    {
     "data": {
      "text/plain": [
       "<tensorflow.python.keras.callbacks.History at 0x2275e17eb20>"
      ]
     },
     "execution_count": 4,
     "metadata": {},
     "output_type": "execute_result"
    }
   ],
   "source": [
    "train_images = train_images / 255 # normalization/scaling\n",
    "# optimizer优化器 sparse稀疏 metrics指标（这里想展示精度）\n",
    "model.compile(optimizer=tf.optimizers.Adam(),loss=tf.losses.sparse_categorical_crossentropy,metrics=['accuracy'])\n",
    "model.fit(train_images,train_labels,epochs=5)"
   ]
  },
  {
   "cell_type": "code",
   "execution_count": 14,
   "id": "8c14c892-1e6c-46e5-955f-552e86709ab4",
   "metadata": {},
   "outputs": [
    {
     "name": "stdout",
     "output_type": "stream",
     "text": [
      "9 9\n",
      "2 2\n",
      "1 1\n",
      "1 1\n",
      "6 6\n",
      "1 1\n",
      "4 4\n",
      "6 6\n",
      "5 5\n",
      "7 7\n",
      "4 4\n",
      "5 5\n",
      "5 7\n",
      "3 3\n",
      "4 4\n",
      "1 1\n",
      "2 2\n",
      "2 4\n",
      "8 8\n",
      "0 0\n"
     ]
    }
   ],
   "source": [
    "import numpy as np\n",
    "test_images_scaled=test_images/255\n",
    "i=0\n",
    "while(i<20):\n",
    "    print(np.argmax(model.predict(test_images_scaled)[i]),test_labels[i])\n",
    "    i=i+1\n",
    "# model.evaluate(test_images_scaled,test_labels)"
   ]
  },
  {
   "cell_type": "code",
   "execution_count": 6,
   "id": "05e2eeed-6b99-45b2-9628-e3a13001b6ec",
   "metadata": {},
   "outputs": [
    {
     "name": "stdout",
     "output_type": "stream",
     "text": [
      "Model: \"sequential\"\n",
      "_________________________________________________________________\n",
      "Layer (type)                 Output Shape              Param #   \n",
      "=================================================================\n",
      "flatten (Flatten)            (None, 784)               0         \n",
      "_________________________________________________________________\n",
      "dense (Dense)                (None, 128)               100480    \n",
      "_________________________________________________________________\n",
      "dense_1 (Dense)              (None, 10)                1290      \n",
      "=================================================================\n",
      "Total params: 101,770\n",
      "Trainable params: 101,770\n",
      "Non-trainable params: 0\n",
      "_________________________________________________________________\n"
     ]
    }
   ],
   "source": [
    "model.summary() # 28*28=784, (784+1)*128=100480,每一层有一个偏置单元"
   ]
  },
  {
   "cell_type": "code",
   "execution_count": 3,
   "id": "77b4f7bf-32a8-447c-b934-b264a3a8ae90",
   "metadata": {},
   "outputs": [
    {
     "name": "stdout",
     "output_type": "stream",
     "text": [
      "(60000, 28, 28) (10000, 28, 28)\n",
      "[9 0 0 3 0 2 7 2 5 5]\n",
      "222\n"
     ]
    }
   ],
   "source": [
    "print(train_images.shape,test_images.shape) # 60000张，28*28像素\n",
    "print(train_labels[:10]) # 前10个标签,0~9\n",
    "print(train_images[0][12][14]) # 第一张图片的第13行第15列点的像素"
   ]
  },
  {
   "cell_type": "code",
   "execution_count": 6,
   "id": "af4e6545-e23c-4a1a-b033-c8fadcb79775",
   "metadata": {},
   "outputs": [
    {
     "data": {
      "text/plain": [
       "<matplotlib.image.AxesImage at 0x142c165e250>"
      ]
     },
     "execution_count": 6,
     "metadata": {},
     "output_type": "execute_result"
    },
    {
     "data": {
      "image/png": "[encoded data removed]",
      "text/plain": [
       "<Figure size 432x288 with 1 Axes>"
      ]
     },
     "metadata": {
      "needs_background": "light"
     },
     "output_type": "display_data"
    }
   ],
   "source": [
    "import matplotlib.pyplot as plt\n",
    "plt.imshow(test_images[120])"
   ]
  }
 ],
 "metadata": {
  "kernelspec": {
   "display_name": "Python 3 (ipykernel)",
   "language": "python",
   "name": "python3"
  },
  "language_info": {
   "codemirror_mode": {
    "name": "ipython",
    "version": 3
   },
   "file_extension": ".py",
   "mimetype": "text/x-python",
   "name": "python",
   "nbconvert_exporter": "python",
   "pygments_lexer": "ipython3",
   "version": "3.8.10"
  }
 },
 "nbformat": 4,
 "nbformat_minor": 5
}

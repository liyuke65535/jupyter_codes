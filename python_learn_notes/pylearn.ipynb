{
 "cells": [
  {
   "cell_type": "markdown",
   "source": [
    "# pylearn"
   ],
   "metadata": {
    "tags": []
   }
  },
  {
   "cell_type": "markdown",
   "source": [
    "## 一.数据类型"
   ],
   "metadata": {
    "tags": []
   }
  },
  {
   "cell_type": "markdown",
   "source": [
    "### 1.数字"
   ],
   "metadata": {
    "tags": []
   }
  },
  {
   "cell_type": "code",
   "execution_count": null,
   "source": [
    "'''\r\n",
    "文本类型：\tstr\r\n",
    "数值类型：\tint, float, complex\r\n",
    "序列类型：\tlist, tuple, range\r\n",
    "映射类型：\tdict\r\n",
    "集合类型：\tset, frozenset\r\n",
    "布尔类型：\tbool\r\n",
    "二进制类型：\tbytes, bytearray, memoryview\r\n",
    "'''\r\n",
    "n1 = 10\r\n",
    "n2 = 1.2\r\n",
    "n3 = 1 + 2j\r\n",
    "n4 = True\r\n",
    "n5 = \"1.2\"\r\n",
    "print(n1, n2, n3, n4)\r\n",
    "print(type(n1),type(n2),type(n3),type(n4),type(n5))"
   ],
   "outputs": [
    {
     "output_type": "stream",
     "name": "stdout",
     "text": [
      "10 1.2 (1+2j) True\n",
      "<class 'int'> <class 'float'> <class 'complex'> <class 'bool'> <class 'str'>\n"
     ]
    }
   ],
   "metadata": {}
  },
  {
   "cell_type": "markdown",
   "source": [
    "#### (1)数据类型转换"
   ],
   "metadata": {
    "tags": []
   }
  },
  {
   "cell_type": "code",
   "execution_count": null,
   "source": [
    "int(3.1415926)"
   ],
   "outputs": [
    {
     "output_type": "execute_result",
     "data": {
      "text/plain": [
       "3"
      ]
     },
     "metadata": {},
     "execution_count": 46
    }
   ],
   "metadata": {}
  },
  {
   "cell_type": "code",
   "execution_count": null,
   "source": [
    "float(23)"
   ],
   "outputs": [
    {
     "output_type": "execute_result",
     "data": {
      "text/plain": [
       "23.0"
      ]
     },
     "metadata": {},
     "execution_count": 47
    }
   ],
   "metadata": {}
  },
  {
   "cell_type": "code",
   "execution_count": null,
   "source": [
    "complex(2,3)"
   ],
   "outputs": [
    {
     "output_type": "execute_result",
     "data": {
      "text/plain": [
       "(2+3j)"
      ]
     },
     "metadata": {},
     "execution_count": 48
    }
   ],
   "metadata": {}
  },
  {
   "cell_type": "markdown",
   "source": [
    "#### (2)数字运算"
   ],
   "metadata": {}
  },
  {
   "cell_type": "code",
   "execution_count": null,
   "source": [
    "1 + 2"
   ],
   "outputs": [],
   "metadata": {}
  },
  {
   "cell_type": "code",
   "execution_count": null,
   "source": [
    "1 - 2"
   ],
   "outputs": [],
   "metadata": {}
  },
  {
   "cell_type": "code",
   "execution_count": null,
   "source": [
    "2 * 3"
   ],
   "outputs": [],
   "metadata": {}
  },
  {
   "cell_type": "code",
   "execution_count": null,
   "source": [
    "23 / 5 # 不取整的除法"
   ],
   "outputs": [
    {
     "output_type": "execute_result",
     "data": {
      "text/plain": [
       "4.6"
      ]
     },
     "metadata": {},
     "execution_count": 59
    }
   ],
   "metadata": {}
  },
  {
   "cell_type": "code",
   "execution_count": null,
   "source": [
    "23 // 5 # 取整的除法"
   ],
   "outputs": [
    {
     "output_type": "execute_result",
     "data": {
      "text/plain": [
       "4"
      ]
     },
     "metadata": {},
     "execution_count": 60
    }
   ],
   "metadata": {}
  },
  {
   "cell_type": "code",
   "execution_count": null,
   "source": [
    "23 % 5"
   ],
   "outputs": [
    {
     "output_type": "execute_result",
     "data": {
      "text/plain": [
       "3"
      ]
     },
     "metadata": {},
     "execution_count": 61
    }
   ],
   "metadata": {}
  },
  {
   "cell_type": "code",
   "execution_count": null,
   "source": [
    "3 ** 3 # ---3的3次方---"
   ],
   "outputs": [
    {
     "output_type": "execute_result",
     "data": {
      "text/plain": [
       "27"
      ]
     },
     "metadata": {},
     "execution_count": 50
    }
   ],
   "metadata": {}
  },
  {
   "cell_type": "markdown",
   "source": [
    "#### (3)数学函数"
   ],
   "metadata": {}
  },
  {
   "cell_type": "code",
   "execution_count": null,
   "source": [
    "import math\r\n",
    "print(math.sqrt(25))\r\n",
    "print(math.exp(1)) # e的k次方\r\n",
    "print(abs(555))\r\n",
    "from math import pi,e\r\n",
    "print(pi,e)\r\n",
    "\r\n",
    "print(math.degrees(pi/4))\r\n",
    "print(math.sin(pi/6))"
   ],
   "outputs": [
    {
     "output_type": "stream",
     "name": "stdout",
     "text": [
      "5.0\n",
      "2.718281828459045\n",
      "555\n",
      "3.141592653589793 2.718281828459045\n",
      "45.0\n",
      "0.49999999999999994\n"
     ]
    }
   ],
   "metadata": {}
  },
  {
   "cell_type": "markdown",
   "source": [
    "#### (4)随机数"
   ],
   "metadata": {}
  },
  {
   "cell_type": "code",
   "execution_count": null,
   "source": [
    "import random\r\n",
    "random.random() # 0~1之间\r\n",
    "random.choice(\"123abc789,./zxp\") # 从该串中选一个char"
   ],
   "outputs": [
    {
     "output_type": "execute_result",
     "data": {
      "text/plain": [
       "'b'"
      ]
     },
     "metadata": {},
     "execution_count": 113
    }
   ],
   "metadata": {}
  },
  {
   "cell_type": "markdown",
   "source": [
    "### 2.List列表\n",
    "最常用数据类型"
   ],
   "metadata": {
    "tags": []
   }
  },
  {
   "cell_type": "code",
   "execution_count": 2,
   "source": [
    "list1 = [1,2,3,4,5,6,7,8,9]\r\n",
    "print(list1)"
   ],
   "outputs": [
    {
     "output_type": "stream",
     "name": "stdout",
     "text": [
      "[1, 2, 3, 4, 5, 6, 7, 8, 9]\n"
     ]
    }
   ],
   "metadata": {}
  },
  {
   "cell_type": "code",
   "execution_count": 4,
   "source": [
    "list2 = [[2,3],[4,5]]\r\n",
    "print(list2)"
   ],
   "outputs": [
    {
     "output_type": "stream",
     "name": "stdout",
     "text": [
      "[[2, 3], [4, 5]]\n"
     ]
    }
   ],
   "metadata": {}
  },
  {
   "cell_type": "markdown",
   "source": [
    "#### (1)访问列表"
   ],
   "metadata": {
    "tags": []
   }
  },
  {
   "cell_type": "code",
   "execution_count": 6,
   "source": [
    "print(list1[0], list2[0], list2[1][1])\r\n",
    "print(list1[:2]) # 前k个\r\n",
    "print(list1[2:]) # 第k个及之后所有元素"
   ],
   "outputs": [
    {
     "output_type": "stream",
     "name": "stdout",
     "text": [
      "1 [2, 3] 5\n",
      "[1, 2]\n",
      "[3, 4, 5, 6, 7, 8, 9]\n"
     ]
    }
   ],
   "metadata": {}
  },
  {
   "cell_type": "markdown",
   "source": [
    "#### (2)更新，删除，拼接，截取，嵌套"
   ],
   "metadata": {
    "jp-MarkdownHeadingCollapsed": true,
    "tags": []
   }
  },
  {
   "cell_type": "code",
   "execution_count": null,
   "source": [
    "list = [1,2,3,4,5,6,7,8,9]"
   ],
   "outputs": [],
   "metadata": {}
  },
  {
   "cell_type": "code",
   "execution_count": null,
   "source": [
    "# update\r\n",
    "list[3] = 99\r\n",
    "print(list)"
   ],
   "outputs": [
    {
     "output_type": "stream",
     "name": "stdout",
     "text": [
      "[1, 2, 3, 99, 5, 6, 7, 8, 9]\n"
     ]
    }
   ],
   "metadata": {}
  },
  {
   "cell_type": "code",
   "execution_count": null,
   "source": [
    "# delete\r\n",
    "del list[3]\r\n",
    "print(list)"
   ],
   "outputs": [
    {
     "output_type": "stream",
     "name": "stdout",
     "text": [
      "[1, 2, 3, 5, 6, 7, 8, 9]\n"
     ]
    }
   ],
   "metadata": {}
  },
  {
   "cell_type": "code",
   "execution_count": null,
   "source": [
    "# 截取\r\n",
    "list1 = list[5:8]\r\n",
    "print(list1)"
   ],
   "outputs": [
    {
     "output_type": "stream",
     "name": "stdout",
     "text": [
      "[7, 8, 9]\n"
     ]
    }
   ],
   "metadata": {}
  },
  {
   "cell_type": "code",
   "execution_count": null,
   "source": [
    "# 拼接\r\n",
    "list2 = list1 + list\r\n",
    "print(list2)"
   ],
   "outputs": [
    {
     "output_type": "stream",
     "name": "stdout",
     "text": [
      "[7, 8, 9, 1, 2, 3, 5, 6, 7, 8, 9]\n"
     ]
    }
   ],
   "metadata": {}
  },
  {
   "cell_type": "code",
   "execution_count": null,
   "source": [
    "# 嵌套\r\n",
    "list3 = [list, list1, list2]\r\n",
    "print(list3)"
   ],
   "outputs": [
    {
     "output_type": "stream",
     "name": "stdout",
     "text": [
      "[[1, 2, 3, 5, 6, 7, 8, 9], [7, 8, 9], [7, 8, 9, 1, 2, 3, 5, 6, 7, 8, 9]]\n"
     ]
    }
   ],
   "metadata": {}
  },
  {
   "cell_type": "markdown",
   "source": [
    "#### (3)list函数"
   ],
   "metadata": {
    "jp-MarkdownHeadingCollapsed": true,
    "tags": []
   }
  },
  {
   "cell_type": "code",
   "execution_count": null,
   "source": [
    "# append 末尾添加\r\n",
    "list = ['name', 'time', 'age', 'weight']\r\n",
    "list.append('school')\r\n",
    "print(list)"
   ],
   "outputs": [
    {
     "output_type": "stream",
     "name": "stdout",
     "text": [
      "['name', 'time', 'age', 'weight', 'school']\n"
     ]
    }
   ],
   "metadata": {}
  },
  {
   "cell_type": "code",
   "execution_count": null,
   "source": [
    "# insert\r\n",
    "list = ['name', 'time', 'age', 'weight']\r\n",
    "list.insert(2,'school')\r\n",
    "print(list)\r\n",
    "\r\n",
    "# pop 弹出元素\r\n",
    "# 与del区别在于：list.pop(k)，保存了第k+1个元素\r\n",
    "print(list.pop(2))\r\n",
    "print(list)"
   ],
   "outputs": [
    {
     "output_type": "stream",
     "name": "stdout",
     "text": [
      "['name', 'time', 'school', 'age', 'weight']\n",
      "school\n",
      "['name', 'time', 'age', 'weight']\n"
     ]
    }
   ],
   "metadata": {}
  },
  {
   "cell_type": "code",
   "execution_count": null,
   "source": [
    "# count 计算出现次数\r\n",
    "list = [1,2,3,1,2,3,1,1,1,1,6,7,8,9999,0,5,6,7,8]\r\n",
    "print(list.count(1))\r\n",
    "\r\n",
    "# max显示最大值\r\n",
    "print(max(list))"
   ],
   "outputs": [
    {
     "output_type": "stream",
     "name": "stdout",
     "text": [
      "6\n",
      "9999\n"
     ]
    }
   ],
   "metadata": {}
  },
  {
   "cell_type": "markdown",
   "source": [
    "### 3.String\n",
    "- 字符串可看作特殊的list"
   ],
   "metadata": {
    "tags": []
   }
  },
  {
   "cell_type": "markdown",
   "source": [
    "#### (1)格式化字符串\r\n",
    "      %c\t 格式化字符及其ASCII码\r\n",
    "      %s\t 格式化字符串\r\n",
    "      %d\t 格式化整数\r\n",
    "      %u\t 格式化无符号整型\r\n",
    "      %o\t 格式化无符号八进制数\r\n",
    "      %x\t 格式化无符号十六进制数\r\n",
    "      %X\t 格式化无符号十六进制数（大写）\r\n",
    "      %f\t 格式化浮点数字，可指定小数点后的精度\r\n",
    "      %e\t 用科学计数法格式化浮点数\r\n",
    "      %E\t 作用同%e，用科学计数法格式化浮点数\r\n",
    "      %g\t %f和%e的简写\r\n",
    "      %G\t %f 和 %E 的简写\r\n",
    "      %p\t 用十六进制数格式化变量的地址"
   ],
   "metadata": {}
  },
  {
   "cell_type": "code",
   "execution_count": 58,
   "source": [
    "print (\"我叫 %s 今年 %d 岁!\" % ('小明', 10))"
   ],
   "outputs": [
    {
     "output_type": "stream",
     "name": "stdout",
     "text": [
      "我叫 小明 今年 10 岁!\n"
     ]
    }
   ],
   "metadata": {}
  },
  {
   "cell_type": "code",
   "execution_count": 47,
   "source": [
    "# format详见二.2\r\n",
    "name = input(\"name:\")\r\n",
    "age = input(\"age:\")\r\n",
    "print(\"your name is {1} and your age is {0}\".format(age,name))\r\n",
    "print(\"your name is {name} and your age is {age}\".format(age=age,name=name))"
   ],
   "outputs": [
    {
     "output_type": "stream",
     "name": "stdout",
     "text": [
      "your name is lyk and your age is 23\n",
      "your name is lyk and your age is 23\n"
     ]
    }
   ],
   "metadata": {}
  },
  {
   "cell_type": "markdown",
   "source": [
    "### 4.Tuple元组\n",
    "- 元组类似于列表，但元组中的元素不能更改；\n",
    "\n",
    "- 元组使用( )小括号，列表中括号"
   ],
   "metadata": {
    "jp-MarkdownHeadingCollapsed": true,
    "tags": []
   }
  },
  {
   "cell_type": "markdown",
   "source": [
    "### 5.set集合\n",
    "- 无序不重复，可用{ }或set()函数创建"
   ],
   "metadata": {
    "jp-MarkdownHeadingCollapsed": true,
    "tags": []
   }
  },
  {
   "cell_type": "code",
   "execution_count": 2,
   "source": [
    "# 可用set来去除列表中的重复元素，如下：\r\n",
    "a = [0,0,0,1,1,1,2,2,3,3,3,3,3,4]\r\n",
    "b = [\"aaa\",\"aaa\",\"a\",\"b\",\"b\",\"asd\",\"asd\"]\r\n",
    "print(set(a))\r\n",
    "print(set(b))"
   ],
   "outputs": [
    {
     "output_type": "stream",
     "name": "stdout",
     "text": [
      "{0, 1, 2, 3, 4}\n",
      "{'a', 'asd', 'b', 'aaa'}\n"
     ]
    }
   ],
   "metadata": {}
  },
  {
   "cell_type": "markdown",
   "source": [
    "### 6.dictionary字典\n",
    "- 键值对，以,逗号分隔元素，整个字典包括在{ }中,如下："
   ],
   "metadata": {
    "tags": []
   }
  },
  {
   "cell_type": "markdown",
   "source": [
    "&emsp; **d = {key1:value1, key2:value2}**"
   ],
   "metadata": {}
  },
  {
   "cell_type": "code",
   "execution_count": 19,
   "source": [
    "month = {\r\n",
    "    1: \"Jan\",\r\n",
    "    2: \"Feb\",\r\n",
    "    3: \"Mar\",\r\n",
    "    4: \"Apr\",\r\n",
    "    5: \"May\",\r\n",
    "    6: \"Jun\",\r\n",
    "    7: \"Jul\",\r\n",
    "    8: \"Aug\",\r\n",
    "    9: \"Sept\",\r\n",
    "    10: \"Oct\",\r\n",
    "    11: \"Nov\",\r\n",
    "    12: \"Dec\"\r\n",
    "}\r\n",
    "print(month[1]) # 注:没有month[0]，这是键值对"
   ],
   "outputs": [
    {
     "output_type": "stream",
     "name": "stdout",
     "text": [
      "Jan\n"
     ]
    }
   ],
   "metadata": {}
  },
  {
   "cell_type": "markdown",
   "source": [
    "## 二.输入输出"
   ],
   "metadata": {
    "tags": []
   }
  },
  {
   "cell_type": "markdown",
   "source": [
    "### 1.输入"
   ],
   "metadata": {
    "tags": []
   }
  },
  {
   "cell_type": "code",
   "execution_count": 20,
   "source": [
    "str = input(\"请输入：\")\r\n",
    "print(str)"
   ],
   "outputs": [
    {
     "output_type": "stream",
     "name": "stdout",
     "text": [
      "请输入： 123\n"
     ]
    },
    {
     "output_type": "stream",
     "name": "stdout",
     "text": [
      "123\n"
     ]
    }
   ],
   "metadata": {}
  },
  {
   "cell_type": "markdown",
   "source": [
    "### 2.输出"
   ],
   "metadata": {}
  },
  {
   "cell_type": "markdown",
   "source": [
    "- Python两种输出值的方式: 表达式语句和 print() 函数。\r\n",
    "\r\n",
    "- 第三种方式是使用文件对象的 write() 方法，标准输出文件可以用 sys.stdout 引用。\r\n",
    "\r\n",
    "- 如果你希望输出的形式更加多样，可以使用 str.format() 函数来格式化输出值。\r\n",
    "\r\n",
    "- 如果你希望将输出的值转成字符串，可以使用 repr() 或 str() 函数来实现。\r\n",
    "\r\n",
    "- str()： 函数返回一个用户易读的表达形式。转换成一个字符串\r\n",
    "- repr()： 产生一个解释器易读的表达形式。**repr() 函数可以转义字符串中的特殊字符**"
   ],
   "metadata": {}
  },
  {
   "cell_type": "markdown",
   "source": [
    "#### (1)str(), repr()"
   ],
   "metadata": {}
  },
  {
   "cell_type": "code",
   "execution_count": 9,
   "source": [
    "a = 3 * 4.1\r\n",
    "b = 4 + 2 / 5\r\n",
    "print(repr(a) , repr(b))\r\n",
    "\r\n",
    "print(repr(str(1/7)))"
   ],
   "outputs": [
    {
     "output_type": "stream",
     "name": "stdout",
     "text": [
      "12.299999999999999 4.4\n",
      "'0.14285714285714285'\n"
     ]
    }
   ],
   "metadata": {}
  },
  {
   "cell_type": "code",
   "execution_count": 7,
   "source": [
    "s = \"hello\\nworld\"\r\n",
    "print(s)\r\n",
    "print(repr(s))"
   ],
   "outputs": [
    {
     "output_type": "stream",
     "name": "stdout",
     "text": [
      "hello\n",
      "world\n",
      "'hello\\nworld'\n"
     ]
    }
   ],
   "metadata": {}
  },
  {
   "cell_type": "markdown",
   "source": [
    "#### (2)ljust, rjust, center"
   ],
   "metadata": {}
  },
  {
   "cell_type": "code",
   "execution_count": 28,
   "source": [
    "for i in range(1,11):\r\n",
    "    # ljust:左对齐    rjust:右对齐    center:中心对齐\r\n",
    "    # ljust里面的参数，代表间隔；有几位数，就可以间隔几位\r\n",
    "    print(repr(i).ljust(2),repr(i**2).center(3),repr(i**3).rjust(4))"
   ],
   "outputs": [
    {
     "output_type": "stream",
     "name": "stdout",
     "text": [
      "1   1     1\n",
      "2   4     8\n",
      "3   9    27\n",
      "4   16   64\n",
      "5   25  125\n",
      "6   36  216\n",
      "7   49  343\n",
      "8   64  512\n",
      "9   81  729\n",
      "10 100 1000\n"
     ]
    }
   ],
   "metadata": {}
  },
  {
   "cell_type": "markdown",
   "source": [
    "#### (3)format"
   ],
   "metadata": {}
  },
  {
   "cell_type": "code",
   "execution_count": 45,
   "source": [
    "for x in range(1, 11):\r\n",
    "    #{0:2d}: 0代表format第一个元素;2代表间距;d代表整数\r\n",
    "    print('{0:2d} and {1:3d} hello {2:4f}'.format(x, x*x, x*x*x))"
   ],
   "outputs": [
    {
     "output_type": "stream",
     "name": "stdout",
     "text": [
      " 1 and   1 hello 1.000000\n",
      " 2 and   4 hello 8.000000\n",
      " 3 and   9 hello 27.000000\n",
      " 4 and  16 hello 64.000000\n",
      " 5 and  25 hello 125.000000\n",
      " 6 and  36 hello 216.000000\n",
      " 7 and  49 hello 343.000000\n",
      " 8 and  64 hello 512.000000\n",
      " 9 and  81 hello 729.000000\n",
      "10 and 100 hello 1000.000000\n"
     ]
    }
   ],
   "metadata": {}
  },
  {
   "cell_type": "markdown",
   "source": [
    "!a (使用 ascii()), !s (使用 str()) 和 !r (使用 repr()) 可以用于在格式化某个值之前对其进行转化:"
   ],
   "metadata": {}
  },
  {
   "cell_type": "code",
   "execution_count": 38,
   "source": [
    "import numpy as np\r\n",
    "print('常量 PI 的值近似为： {!s}。'.format(np.pi))\r\n",
    "print('常量 PI 的值近似为： {!r}。'.format(\"123\"))\r\n",
    "print('常量 PI 的值近似为： {!a}。'.format(\"0\"))"
   ],
   "outputs": [
    {
     "output_type": "stream",
     "name": "stdout",
     "text": [
      "常量 PI 的值近似为： 3.141592653589793。\n",
      "常量 PI 的值近似为： '123'。\n",
      "常量 PI 的值近似为： '0'。\n"
     ]
    }
   ],
   "metadata": {}
  },
  {
   "cell_type": "markdown",
   "source": [
    "**可选项 : 和格式标识符可以跟着字段名。 这就允许对值进行更好的格式化。**\r\n",
    "\r\n",
    "**在 : 后传入一个整数, 可以保证该域至少有这么多的宽度**"
   ],
   "metadata": {}
  },
  {
   "cell_type": "code",
   "execution_count": 51,
   "source": [
    "import numpy as np\r\n",
    "print('常量 PI 的值近似为 {0:.3f}。'.format(np.pi))\r\n",
    "print('PI的近似值为==> {0:8.2f}。'.format(np.pi))"
   ],
   "outputs": [
    {
     "output_type": "stream",
     "name": "stdout",
     "text": [
      "常量 PI 的值近似为 3.142。\n",
      "PI的近似值为==>     3.14。\n"
     ]
    }
   ],
   "metadata": {}
  },
  {
   "cell_type": "markdown",
   "source": [
    "- **传入一个字典, 然后使用方括号 [] 来访问键值**\r\n",
    "- **也可以通过在 table 变量前使用 ** 来实现相同的功能**"
   ],
   "metadata": {}
  },
  {
   "cell_type": "code",
   "execution_count": 57,
   "source": [
    "table = {'Google': 1, 'abc': 2, 'Taobao': 3}\r\n",
    "print('abc: {0[abc]:d}; Google: {0[Google]:d}; Taobao: {0[Taobao]:d}'.format(table))\r\n",
    "print('abc: {abc:10.3f}; Google: {Google:d}; Taobao: {Taobao:d}'.format(**table))"
   ],
   "outputs": [
    {
     "output_type": "stream",
     "name": "stdout",
     "text": [
      "abc: 2; Google: 1; Taobao: 3\n",
      "abc:      2.000; Google: 1; Taobao: 3\n"
     ]
    }
   ],
   "metadata": {}
  },
  {
   "cell_type": "markdown",
   "source": [
    "### 3.文件"
   ],
   "metadata": {
    "tags": []
   }
  },
  {
   "cell_type": "code",
   "execution_count": 23,
   "source": [
    "'''\r\n",
    "r：表示文件只能读取\r\n",
    "w：表示文件只能写入\r\n",
    "a：表示打开文件，在原有内容的基础上追加内容，在末尾写入\r\n",
    "w+:表示可以对文件进行读写双重操作\r\n",
    "'''\r\n",
    "file = open(\"C:\\\\Users\\\\Johy\\\\Desktop\\\\1.txt\",\"r\") # 小心转义字符\r\n",
    "print(file.read(5)) # 读取前k字符\r\n",
    "print(file.readline()) # 读取一行，包括换行符\r\n",
    "print(file.readlines()[0]) # 读取所有行\r\n",
    "file.close()"
   ],
   "outputs": [
    {
     "output_type": "stream",
     "name": "stdout",
     "text": [
      "---w \n",
      "mode---\n",
      "\n",
      "aaaaa234\n",
      "\n"
     ]
    }
   ],
   "metadata": {}
  },
  {
   "cell_type": "code",
   "execution_count": 24,
   "source": [
    "# 使用 with 关键字,优点是当子句体结束后文件会正确关闭，即使在某个时刻引发了异常。\r\n",
    "with open(\"C:\\\\Users\\\\Johy\\\\Desktop\\\\1.txt\",\"w\") as file:\r\n",
    "    file.write(\"---w mode---\\naaaaa234\\n\")\r\n",
    "    \r\n",
    "with open(\"C:\\\\Users\\\\Johy\\\\Desktop\\\\1.txt\",\"a\") as file1:\r\n",
    "    file1.write(\"---a mode---\\n123 123\\n456\\n666\\n333 qwe\")\r\n",
    "    file1.close()\r\n",
    "    \r\n",
    "with open(\"C:\\\\Users\\\\Johy\\\\Desktop\\\\1.txt\",\"r\") as f:\r\n",
    "    print(f.read())"
   ],
   "outputs": [
    {
     "output_type": "stream",
     "name": "stdout",
     "text": [
      "---w mode---\n",
      "aaaaa234\n",
      "---a mode---\n",
      "123 123\n",
      "456\n",
      "666\n",
      "333 qwe\n"
     ]
    }
   ],
   "metadata": {}
  },
  {
   "cell_type": "markdown",
   "source": [
    "## 三.函数+模块"
   ],
   "metadata": {}
  },
  {
   "cell_type": "markdown",
   "source": [
    "### 1.函数定义、调用"
   ],
   "metadata": {}
  },
  {
   "cell_type": "raw",
   "source": [
    "def 函数名(参数列表):\r\n",
    "    函数体(4个空格)"
   ],
   "metadata": {}
  },
  {
   "cell_type": "markdown",
   "source": [
    "- 不使用return，默认无返回"
   ],
   "metadata": {}
  },
  {
   "cell_type": "code",
   "execution_count": 26,
   "source": [
    "def func(words):\r\n",
    "    print(words)\r\n",
    "func(\"hello world\")"
   ],
   "outputs": [
    {
     "output_type": "stream",
     "name": "stdout",
     "text": [
      "hello world\n"
     ]
    }
   ],
   "metadata": {}
  },
  {
   "cell_type": "code",
   "execution_count": 27,
   "source": [
    "def multiply(a,b):\r\n",
    "    return a*b\r\n",
    "print(multiply(5,6))"
   ],
   "outputs": [
    {
     "output_type": "stream",
     "name": "stdout",
     "text": [
      "30\n"
     ]
    }
   ],
   "metadata": {}
  },
  {
   "cell_type": "markdown",
   "source": [
    "## 四.条件、循环"
   ],
   "metadata": {}
  },
  {
   "cell_type": "markdown",
   "source": [
    "### 1.条件"
   ],
   "metadata": {}
  },
  {
   "cell_type": "code",
   "execution_count": 34,
   "source": [
    "a=5\r\n",
    "b=20\r\n",
    "c=3\r\n",
    "if a>b:\r\n",
    "    if a>c:\r\n",
    "        print(\"a>b & a>c\")\r\n",
    "    else :\r\n",
    "        print(\"c>a>b\")\r\n",
    "elif a>c:\r\n",
    "    print(\"b>a>c\")\r\n",
    "else :\r\n",
    "    print(\"a<b & a<c\")"
   ],
   "outputs": [
    {
     "output_type": "stream",
     "name": "stdout",
     "text": [
      "b>a>c\n"
     ]
    }
   ],
   "metadata": {}
  },
  {
   "cell_type": "markdown",
   "source": [
    "### 2.循环"
   ],
   "metadata": {}
  },
  {
   "cell_type": "markdown",
   "source": [
    "#### (1)while"
   ],
   "metadata": {}
  },
  {
   "cell_type": "code",
   "execution_count": 40,
   "source": [
    "a=3\r\n",
    "while(a>0):\r\n",
    "    print(a)\r\n",
    "    a=a-1"
   ],
   "outputs": [
    {
     "output_type": "stream",
     "name": "stdout",
     "text": [
      "3\n",
      "2\n",
      "1\n"
     ]
    }
   ],
   "metadata": {}
  },
  {
   "cell_type": "markdown",
   "source": [
    "#### (2)for"
   ],
   "metadata": {}
  },
  {
   "cell_type": "markdown",
   "source": [
    "- sequence可以是任何序列\n",
    "- 如字符串、列表等"
   ],
   "metadata": {}
  },
  {
   "cell_type": "raw",
   "source": [
    "for i in sequence:\r\n",
    "    statements(s)"
   ],
   "metadata": {}
  },
  {
   "cell_type": "code",
   "execution_count": 45,
   "source": [
    "str = \"hello world!\"\r\n",
    "for i in str:\r\n",
    "    print(i, end=\" \")"
   ],
   "outputs": [
    {
     "output_type": "stream",
     "name": "stdout",
     "text": [
      "h e l l o   w o r l d ! "
     ]
    }
   ],
   "metadata": {}
  }
 ],
 "metadata": {
  "kernelspec": {
   "name": "python3",
   "display_name": "Python 3.8.10 64-bit ('tensorflow': conda)"
  },
  "language_info": {
   "codemirror_mode": {
    "name": "ipython",
    "version": 3
   },
   "file_extension": ".py",
   "mimetype": "text/x-python",
   "name": "python",
   "nbconvert_exporter": "python",
   "pygments_lexer": "ipython3",
   "version": "3.8.10"
  },
  "interpreter": {
   "hash": "4f8d49cc1c12cacec246f9c62a156171c37f24bf321fb76bc8a73fb98704a7dc"
  }
 },
 "nbformat": 4,
 "nbformat_minor": 5
}
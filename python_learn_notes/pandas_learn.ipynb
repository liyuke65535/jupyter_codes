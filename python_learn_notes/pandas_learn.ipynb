{
 "cells": [
  {
   "cell_type": "markdown",
   "source": [
    "|dimension| keyword |           description          |\r\n",
    "|---------|---------|--------------------------------|\r\n",
    "|    1    | Series  |      带标签的一维同构数组       |\r\n",
    "|    2    |DataFrame|带标签的，大小可变的，二维异构表格|"
   ],
   "metadata": {}
  },
  {
   "cell_type": "markdown",
   "source": [
    "Pandas 所有数据结构的值都是可变的，但数据结构的大小并非都是可变的，比如，Series 的长度不可改变，但 DataFrame 里就可以插入列。\r\n",
    "\r\n",
    "Pandas 里，绝大多数方法都不改变原始的输入数据，而是复制数据，生成新的对象。 一般来说，原始输入数据**不变**更稳妥。"
   ],
   "metadata": {}
  },
  {
   "cell_type": "markdown",
   "source": [
    " ***Pandas 和 NumPy 的本质区别***：\r\n",
    " - NumPy 数组只有一种数据类型\r\n",
    " - DataFrame **每列**的数据类型**各不相同**"
   ],
   "metadata": {}
  },
  {
   "cell_type": "markdown",
   "source": [
    "# 一.生成对象"
   ],
   "metadata": {}
  },
  {
   "cell_type": "code",
   "execution_count": 9,
   "source": [
    "# 用值列表生成Series时，Pandas 默认自动生成整数索引：\r\n",
    "import numpy as np\r\n",
    "import pandas as pd\r\n",
    "s = pd.Series([1,2,3,np.nan,4,5,6])\r\n",
    "s"
   ],
   "outputs": [
    {
     "output_type": "execute_result",
     "data": {
      "text/plain": [
       "0    1.0\n",
       "1    2.0\n",
       "2    3.0\n",
       "3    NaN\n",
       "4    4.0\n",
       "5    5.0\n",
       "6    6.0\n",
       "dtype: float64"
      ]
     },
     "metadata": {},
     "execution_count": 9
    }
   ],
   "metadata": {}
  },
  {
   "cell_type": "code",
   "execution_count": 35,
   "source": [
    "# 用含日期时间索引与标签的 NumPy 数组生成 DataFrame:\r\n",
    "dates = pd.date_range('20210827', periods=6)\r\n",
    "print(dates)\r\n",
    "\r\n",
    "# randn生成数据符合标准正态分布\r\n",
    "df = pd.DataFrame(np.random.randn(6, 4), index=dates, columns=list('ABCD'))\r\n",
    "df"
   ],
   "outputs": [
    {
     "output_type": "stream",
     "name": "stdout",
     "text": [
      "DatetimeIndex(['2021-08-27', '2021-08-28', '2021-08-29', '2021-08-30',\n",
      "               '2021-08-31', '2021-09-01'],\n",
      "              dtype='datetime64[ns]', freq='D')\n"
     ]
    },
    {
     "output_type": "execute_result",
     "data": {
      "text/plain": [
       "                   A         B         C         D\n",
       "2021-08-27  1.030453 -0.535430 -0.791386  0.325403\n",
       "2021-08-28  0.736789 -1.476530  0.215080 -0.534774\n",
       "2021-08-29  0.849480 -2.095524 -0.316863  0.723360\n",
       "2021-08-30  1.396196 -1.118973  0.567670 -0.084710\n",
       "2021-08-31 -0.141668  2.476473  0.710798 -1.412875\n",
       "2021-09-01 -0.011199  1.489545  0.735018  1.027801"
      ],
      "text/html": [
       "<div>\n",
       "<style scoped>\n",
       "    .dataframe tbody tr th:only-of-type {\n",
       "        vertical-align: middle;\n",
       "    }\n",
       "\n",
       "    .dataframe tbody tr th {\n",
       "        vertical-align: top;\n",
       "    }\n",
       "\n",
       "    .dataframe thead th {\n",
       "        text-align: right;\n",
       "    }\n",
       "</style>\n",
       "<table border=\"1\" class=\"dataframe\">\n",
       "  <thead>\n",
       "    <tr style=\"text-align: right;\">\n",
       "      <th></th>\n",
       "      <th>A</th>\n",
       "      <th>B</th>\n",
       "      <th>C</th>\n",
       "      <th>D</th>\n",
       "    </tr>\n",
       "  </thead>\n",
       "  <tbody>\n",
       "    <tr>\n",
       "      <th>2021-08-27</th>\n",
       "      <td>1.030453</td>\n",
       "      <td>-0.535430</td>\n",
       "      <td>-0.791386</td>\n",
       "      <td>0.325403</td>\n",
       "    </tr>\n",
       "    <tr>\n",
       "      <th>2021-08-28</th>\n",
       "      <td>0.736789</td>\n",
       "      <td>-1.476530</td>\n",
       "      <td>0.215080</td>\n",
       "      <td>-0.534774</td>\n",
       "    </tr>\n",
       "    <tr>\n",
       "      <th>2021-08-29</th>\n",
       "      <td>0.849480</td>\n",
       "      <td>-2.095524</td>\n",
       "      <td>-0.316863</td>\n",
       "      <td>0.723360</td>\n",
       "    </tr>\n",
       "    <tr>\n",
       "      <th>2021-08-30</th>\n",
       "      <td>1.396196</td>\n",
       "      <td>-1.118973</td>\n",
       "      <td>0.567670</td>\n",
       "      <td>-0.084710</td>\n",
       "    </tr>\n",
       "    <tr>\n",
       "      <th>2021-08-31</th>\n",
       "      <td>-0.141668</td>\n",
       "      <td>2.476473</td>\n",
       "      <td>0.710798</td>\n",
       "      <td>-1.412875</td>\n",
       "    </tr>\n",
       "    <tr>\n",
       "      <th>2021-09-01</th>\n",
       "      <td>-0.011199</td>\n",
       "      <td>1.489545</td>\n",
       "      <td>0.735018</td>\n",
       "      <td>1.027801</td>\n",
       "    </tr>\n",
       "  </tbody>\n",
       "</table>\n",
       "</div>"
      ]
     },
     "metadata": {},
     "execution_count": 35
    }
   ],
   "metadata": {}
  },
  {
   "cell_type": "code",
   "execution_count": 26,
   "source": [
    "# 用 Series 字典对象生成 DataFrame:\r\n",
    "df2 = pd.DataFrame({'A': 1.,\r\n",
    "                    'B': pd.Timestamp('20130102'),\r\n",
    "                    'C': pd.Series(1, index=list(range(4)), dtype='float32'),\r\n",
    "                    'D': np.array([3] * 4, dtype='int32'),\r\n",
    "                    'E': pd.Categorical([\"test\", \"train\", \"test\", \"train\"]),\r\n",
    "                    'F': 'foo'})\r\n",
    "print(df2)\r\n",
    "df2.dtypes"
   ],
   "outputs": [
    {
     "output_type": "stream",
     "name": "stdout",
     "text": [
      "     A          B    C  D      E    F\n",
      "0  1.0 2013-01-02  1.0  3   test  foo\n",
      "1  1.0 2013-01-02  1.0  3  train  foo\n",
      "2  1.0 2013-01-02  1.0  3   test  foo\n",
      "3  1.0 2013-01-02  1.0  3  train  foo\n"
     ]
    },
    {
     "output_type": "execute_result",
     "data": {
      "text/plain": [
       "A           float64\n",
       "B    datetime64[ns]\n",
       "C           float32\n",
       "D             int32\n",
       "E          category\n",
       "F            object\n",
       "dtype: object"
      ]
     },
     "metadata": {},
     "execution_count": 26
    }
   ],
   "metadata": {}
  },
  {
   "cell_type": "markdown",
   "source": [
    "# 二.查看数据"
   ],
   "metadata": {}
  },
  {
   "cell_type": "markdown",
   "source": [
    "## 1.head tail\r\n",
    "head()与tail()用于快速预览Series与DataFrame，默认显示5条数据，也可以指定显示数据的数量。"
   ],
   "metadata": {}
  },
  {
   "cell_type": "code",
   "execution_count": 44,
   "source": [
    "df.head(2)"
   ],
   "outputs": [
    {
     "output_type": "execute_result",
     "data": {
      "text/plain": [
       "                   A        B         C         D\n",
       "2021-08-27  1.030453 -0.53543 -0.791386  0.325403\n",
       "2021-08-28  0.736789 -1.47653  0.215080 -0.534774"
      ],
      "text/html": [
       "<div>\n",
       "<style scoped>\n",
       "    .dataframe tbody tr th:only-of-type {\n",
       "        vertical-align: middle;\n",
       "    }\n",
       "\n",
       "    .dataframe tbody tr th {\n",
       "        vertical-align: top;\n",
       "    }\n",
       "\n",
       "    .dataframe thead th {\n",
       "        text-align: right;\n",
       "    }\n",
       "</style>\n",
       "<table border=\"1\" class=\"dataframe\">\n",
       "  <thead>\n",
       "    <tr style=\"text-align: right;\">\n",
       "      <th></th>\n",
       "      <th>A</th>\n",
       "      <th>B</th>\n",
       "      <th>C</th>\n",
       "      <th>D</th>\n",
       "    </tr>\n",
       "  </thead>\n",
       "  <tbody>\n",
       "    <tr>\n",
       "      <th>2021-08-27</th>\n",
       "      <td>1.030453</td>\n",
       "      <td>-0.53543</td>\n",
       "      <td>-0.791386</td>\n",
       "      <td>0.325403</td>\n",
       "    </tr>\n",
       "    <tr>\n",
       "      <th>2021-08-28</th>\n",
       "      <td>0.736789</td>\n",
       "      <td>-1.47653</td>\n",
       "      <td>0.215080</td>\n",
       "      <td>-0.534774</td>\n",
       "    </tr>\n",
       "  </tbody>\n",
       "</table>\n",
       "</div>"
      ]
     },
     "metadata": {},
     "execution_count": 44
    }
   ],
   "metadata": {}
  },
  {
   "cell_type": "code",
   "execution_count": 37,
   "source": [
    "df.tail()"
   ],
   "outputs": [
    {
     "output_type": "execute_result",
     "data": {
      "text/plain": [
       "                   A         B         C         D\n",
       "2021-08-28  0.736789 -1.476530  0.215080 -0.534774\n",
       "2021-08-29  0.849480 -2.095524 -0.316863  0.723360\n",
       "2021-08-30  1.396196 -1.118973  0.567670 -0.084710\n",
       "2021-08-31 -0.141668  2.476473  0.710798 -1.412875\n",
       "2021-09-01 -0.011199  1.489545  0.735018  1.027801"
      ],
      "text/html": [
       "<div>\n",
       "<style scoped>\n",
       "    .dataframe tbody tr th:only-of-type {\n",
       "        vertical-align: middle;\n",
       "    }\n",
       "\n",
       "    .dataframe tbody tr th {\n",
       "        vertical-align: top;\n",
       "    }\n",
       "\n",
       "    .dataframe thead th {\n",
       "        text-align: right;\n",
       "    }\n",
       "</style>\n",
       "<table border=\"1\" class=\"dataframe\">\n",
       "  <thead>\n",
       "    <tr style=\"text-align: right;\">\n",
       "      <th></th>\n",
       "      <th>A</th>\n",
       "      <th>B</th>\n",
       "      <th>C</th>\n",
       "      <th>D</th>\n",
       "    </tr>\n",
       "  </thead>\n",
       "  <tbody>\n",
       "    <tr>\n",
       "      <th>2021-08-28</th>\n",
       "      <td>0.736789</td>\n",
       "      <td>-1.476530</td>\n",
       "      <td>0.215080</td>\n",
       "      <td>-0.534774</td>\n",
       "    </tr>\n",
       "    <tr>\n",
       "      <th>2021-08-29</th>\n",
       "      <td>0.849480</td>\n",
       "      <td>-2.095524</td>\n",
       "      <td>-0.316863</td>\n",
       "      <td>0.723360</td>\n",
       "    </tr>\n",
       "    <tr>\n",
       "      <th>2021-08-30</th>\n",
       "      <td>1.396196</td>\n",
       "      <td>-1.118973</td>\n",
       "      <td>0.567670</td>\n",
       "      <td>-0.084710</td>\n",
       "    </tr>\n",
       "    <tr>\n",
       "      <th>2021-08-31</th>\n",
       "      <td>-0.141668</td>\n",
       "      <td>2.476473</td>\n",
       "      <td>0.710798</td>\n",
       "      <td>-1.412875</td>\n",
       "    </tr>\n",
       "    <tr>\n",
       "      <th>2021-09-01</th>\n",
       "      <td>-0.011199</td>\n",
       "      <td>1.489545</td>\n",
       "      <td>0.735018</td>\n",
       "      <td>1.027801</td>\n",
       "    </tr>\n",
       "  </tbody>\n",
       "</table>\n",
       "</div>"
      ]
     },
     "metadata": {},
     "execution_count": 37
    }
   ],
   "metadata": {}
  },
  {
   "cell_type": "code",
   "execution_count": 39,
   "source": [
    "df.index"
   ],
   "outputs": [
    {
     "output_type": "execute_result",
     "data": {
      "text/plain": [
       "DatetimeIndex(['2021-08-27', '2021-08-28', '2021-08-29', '2021-08-30',\n",
       "               '2021-08-31', '2021-09-01'],\n",
       "              dtype='datetime64[ns]', freq='D')"
      ]
     },
     "metadata": {},
     "execution_count": 39
    }
   ],
   "metadata": {}
  },
  {
   "cell_type": "code",
   "execution_count": 42,
   "source": [
    "df.columns"
   ],
   "outputs": [
    {
     "output_type": "execute_result",
     "data": {
      "text/plain": [
       "Index(['A', 'B', 'C', 'D'], dtype='object')"
      ]
     },
     "metadata": {},
     "execution_count": 42
    }
   ],
   "metadata": {}
  },
  {
   "cell_type": "markdown",
   "source": [
    "**DataFrame.to_numpy()输出底层数据的 NumPy 对象**\r\n",
    "- DataFrame.to_numpy()的输出不包含行索引和列标签"
   ],
   "metadata": {}
  },
  {
   "cell_type": "code",
   "execution_count": 54,
   "source": [
    "df2.to_numpy()"
   ],
   "outputs": [
    {
     "output_type": "execute_result",
     "data": {
      "text/plain": [
       "array([[1.0, Timestamp('2013-01-02 00:00:00'), 1.0, 3, 'test', 'foo'],\n",
       "       [1.0, Timestamp('2013-01-02 00:00:00'), 1.0, 3, 'train', 'foo'],\n",
       "       [1.0, Timestamp('2013-01-02 00:00:00'), 1.0, 3, 'test', 'foo'],\n",
       "       [1.0, Timestamp('2013-01-02 00:00:00'), 1.0, 3, 'train', 'foo']],\n",
       "      dtype=object)"
      ]
     },
     "metadata": {},
     "execution_count": 54
    }
   ],
   "metadata": {}
  },
  {
   "cell_type": "code",
   "execution_count": 57,
   "source": [
    "df.describe()"
   ],
   "outputs": [
    {
     "output_type": "execute_result",
     "data": {
      "text/plain": [
       "              A         B         C         D\n",
       "count  6.000000  6.000000  6.000000  6.000000\n",
       "mean   0.643342 -0.210073  0.186720  0.007368\n",
       "std    0.602085  1.799835  0.621531  0.891578\n",
       "min   -0.141668 -2.095524 -0.791386 -1.412875\n",
       "25%    0.175798 -1.387140 -0.183877 -0.422258\n",
       "50%    0.793134 -0.827201  0.391375  0.120347\n",
       "75%    0.985210  0.983301  0.675016  0.623871\n",
       "max    1.396196  2.476473  0.735018  1.027801"
      ],
      "text/html": [
       "<div>\n",
       "<style scoped>\n",
       "    .dataframe tbody tr th:only-of-type {\n",
       "        vertical-align: middle;\n",
       "    }\n",
       "\n",
       "    .dataframe tbody tr th {\n",
       "        vertical-align: top;\n",
       "    }\n",
       "\n",
       "    .dataframe thead th {\n",
       "        text-align: right;\n",
       "    }\n",
       "</style>\n",
       "<table border=\"1\" class=\"dataframe\">\n",
       "  <thead>\n",
       "    <tr style=\"text-align: right;\">\n",
       "      <th></th>\n",
       "      <th>A</th>\n",
       "      <th>B</th>\n",
       "      <th>C</th>\n",
       "      <th>D</th>\n",
       "    </tr>\n",
       "  </thead>\n",
       "  <tbody>\n",
       "    <tr>\n",
       "      <th>count</th>\n",
       "      <td>6.000000</td>\n",
       "      <td>6.000000</td>\n",
       "      <td>6.000000</td>\n",
       "      <td>6.000000</td>\n",
       "    </tr>\n",
       "    <tr>\n",
       "      <th>mean</th>\n",
       "      <td>0.643342</td>\n",
       "      <td>-0.210073</td>\n",
       "      <td>0.186720</td>\n",
       "      <td>0.007368</td>\n",
       "    </tr>\n",
       "    <tr>\n",
       "      <th>std</th>\n",
       "      <td>0.602085</td>\n",
       "      <td>1.799835</td>\n",
       "      <td>0.621531</td>\n",
       "      <td>0.891578</td>\n",
       "    </tr>\n",
       "    <tr>\n",
       "      <th>min</th>\n",
       "      <td>-0.141668</td>\n",
       "      <td>-2.095524</td>\n",
       "      <td>-0.791386</td>\n",
       "      <td>-1.412875</td>\n",
       "    </tr>\n",
       "    <tr>\n",
       "      <th>25%</th>\n",
       "      <td>0.175798</td>\n",
       "      <td>-1.387140</td>\n",
       "      <td>-0.183877</td>\n",
       "      <td>-0.422258</td>\n",
       "    </tr>\n",
       "    <tr>\n",
       "      <th>50%</th>\n",
       "      <td>0.793134</td>\n",
       "      <td>-0.827201</td>\n",
       "      <td>0.391375</td>\n",
       "      <td>0.120347</td>\n",
       "    </tr>\n",
       "    <tr>\n",
       "      <th>75%</th>\n",
       "      <td>0.985210</td>\n",
       "      <td>0.983301</td>\n",
       "      <td>0.675016</td>\n",
       "      <td>0.623871</td>\n",
       "    </tr>\n",
       "    <tr>\n",
       "      <th>max</th>\n",
       "      <td>1.396196</td>\n",
       "      <td>2.476473</td>\n",
       "      <td>0.735018</td>\n",
       "      <td>1.027801</td>\n",
       "    </tr>\n",
       "  </tbody>\n",
       "</table>\n",
       "</div>"
      ]
     },
     "metadata": {},
     "execution_count": 57
    }
   ],
   "metadata": {}
  }
 ],
 "metadata": {
  "orig_nbformat": 4,
  "language_info": {
   "name": "python",
   "version": "3.8.10",
   "mimetype": "text/x-python",
   "codemirror_mode": {
    "name": "ipython",
    "version": 3
   },
   "pygments_lexer": "ipython3",
   "nbconvert_exporter": "python",
   "file_extension": ".py"
  },
  "kernelspec": {
   "name": "python3",
   "display_name": "Python 3.8.10 64-bit ('tensorflow': conda)"
  },
  "interpreter": {
   "hash": "4f8d49cc1c12cacec246f9c62a156171c37f24bf321fb76bc8a73fb98704a7dc"
  }
 },
 "nbformat": 4,
 "nbformat_minor": 2
}
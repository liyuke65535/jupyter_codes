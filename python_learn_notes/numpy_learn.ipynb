{
 "cells": [
  {
   "cell_type": "markdown",
   "source": [
    "## 1.dtype元素类型"
   ],
   "metadata": {}
  },
  {
   "cell_type": "markdown",
   "source": [
    "# 数组\n",
    "- **ndarray.ndim\t秩，即轴的数量或维度的数量**\n",
    "- **ndarray.shape\t数组的维度，对于矩阵，n 行 m 列**\n",
    "- **ndarray.size\t数组元素的总个数，相当于 .shape 中 n*m 的值**\n",
    "- **ndarray.dtype\tndarray 对象的元素类型**\n",
    "- ndarray.itemsize\tndarray 对象中每个元素的大小，以字节为单位\n",
    "- ndarray.flags\tndarray 对象的内存信息\n",
    "- ndarray.real\tndarray元素的实部\n",
    "- ndarray.imag\tndarray 元素的虚部\n",
    "- ndarray.data\t包含实际数组元素的缓冲区，由于一般通过数组的索引获取元素，所以通常不需要使用这个属性。"
   ],
   "metadata": {}
  },
  {
   "cell_type": "code",
   "execution_count": 5,
   "source": [
    "import numpy as np\r\n",
    "a = np.array([1,3,5,7],dtype=np.int64) # 不定义dtype，默认为int32\r\n",
    "b = np.array([1,3,5,7],dtype=float)\r\n",
    "c = np.array([1,3,5,7],dtype=complex)\r\n",
    "d = np.array([1,3,5,7],dtype=bool)\r\n",
    "data = [a,b,c,d]\r\n",
    "\r\n",
    "for i in data:\r\n",
    "    print(i,i.dtype)"
   ],
   "outputs": [
    {
     "output_type": "stream",
     "name": "stdout",
     "text": [
      "[1 3 5 7] int64\n",
      "[1. 3. 5. 7.] float64\n",
      "[1.+0.j 3.+0.j 5.+0.j 7.+0.j] complex128\n",
      "[ True  True  True  True] bool\n"
     ]
    }
   ],
   "metadata": {}
  },
  {
   "cell_type": "code",
   "execution_count": 9,
   "source": [
    "import numpy as np\r\n",
    "arr1 = np.array([\"abc\",\"python\",\"java\"],dtype=np.string_)\r\n",
    "arr2 = np.array([\"abc\",\"python\",\"java\"],dtype=np.unicode_)\r\n",
    "print(arr1,arr1.dtype)\r\n",
    "print(arr2,arr2.dtype)"
   ],
   "outputs": [
    {
     "output_type": "stream",
     "name": "stdout",
     "text": [
      "[b'abc' b'python' b'java'] |S6\n",
      "['abc' 'python' 'java'] <U6\n"
     ]
    }
   ],
   "metadata": {}
  },
  {
   "cell_type": "markdown",
   "source": [
    "![image.png](attachment:d53035ec-6ca7-4969-b760-41164478c3c3.png)\r\n",
    "- 小段字节序和大端字节序\r\n",
    "- <U6 的 < 意思即小端字节序"
   ],
   "metadata": {},
   "attachments": {
    "d53035ec-6ca7-4969-b760-41164478c3c3.png": {
     "image/png": "[encoded data removed]"
    }
   }
  },
  {
   "cell_type": "markdown",
   "source": [
    "## 2.ndim、shape"
   ],
   "metadata": {
    "tags": []
   }
  },
  {
   "cell_type": "code",
   "execution_count": 29,
   "source": [
    "import numpy as np \r\n",
    "a = np.arange(24)  \r\n",
    "print (a)             # a 现只有一个维度\r\n",
    "print (\"a.shape:\", a.shape, \"    a.ndim:\", a.ndim, end=\"\\n\\n\")\r\n",
    "# 现在调整其大小\r\n",
    "b = a.reshape(2,4,3)  # b 现在拥有三个维度\r\n",
    "print (b)\r\n",
    "print (\"b.ndim:\",b.ndim)"
   ],
   "outputs": [
    {
     "output_type": "stream",
     "name": "stdout",
     "text": [
      "[ 0  1  2  3  4  5  6  7  8  9 10 11 12 13 14 15 16 17 18 19 20 21 22 23]\n",
      "a.shape: (24,)     a.ndim: 1\n",
      "\n",
      "[[[ 0  1  2]\n",
      "  [ 3  4  5]\n",
      "  [ 6  7  8]\n",
      "  [ 9 10 11]]\n",
      "\n",
      " [[12 13 14]\n",
      "  [15 16 17]\n",
      "  [18 19 20]\n",
      "  [21 22 23]]]\n",
      "b.ndim: 3\n"
     ]
    }
   ],
   "metadata": {}
  },
  {
   "cell_type": "markdown",
   "source": [
    "## 3.简介生成数组的函数"
   ],
   "metadata": {
    "tags": []
   }
  },
  {
   "cell_type": "markdown",
   "source": [
    "### (1)arrange\n",
    "**numpy.arange(start=0, stop, step=1, dtype=None)，返回均匀间隔值的数组**\n",
    "- start —— 开始位置，数字，可选项，默认起始值为0\n",
    "- stop —— 停止位置，数字，**必填**\n",
    "- step —— 步长，数字，可选项， 默认步长为1，**如果指定了step，则还必须给出start**。\n",
    "- dtype —— 输出数组的类型。 如果未给出dtype，则从其他输入参数推断数据类型。"
   ],
   "metadata": {
    "tags": []
   }
  },
  {
   "cell_type": "code",
   "execution_count": 31,
   "source": [
    "from numpy import *  # 引入numpy\r\n",
    "\r\n",
    "A = arange(5)  # 只有结束项\r\n",
    "print(A)  # 结果 [0 1 2 3 4] 结果不包含结束项\r\n",
    "print(type(A))  # 结果 <class 'numpy.ndarray'>\r\n",
    "\r\n",
    "A = arange(1, 5)  # 起点为1，步长默认为1\r\n",
    "print(A)  # 结果 [1 2 3 4]\r\n",
    "\r\n",
    "A = arange(1, 5, 2)  # 步长默认为2\r\n",
    "print(A)  # 结果 [1 3]\r\n",
    "\r\n",
    "A = arange(1, 5.2, 0.6)  # 浮点数参数，结果就不一定完全符合了\r\n",
    "print(A)  # 结果 [1.  1.6 2.2 2.8 3.4 4.  4.6 5.2]"
   ],
   "outputs": [
    {
     "output_type": "stream",
     "name": "stdout",
     "text": [
      "[0 1 2 3 4]\n",
      "<class 'numpy.ndarray'>\n",
      "[1 2 3 4]\n",
      "[1 3]\n",
      "[1.  1.6 2.2 2.8 3.4 4.  4.6 5.2]\n"
     ]
    }
   ],
   "metadata": {}
  },
  {
   "cell_type": "markdown",
   "source": [
    "### (2)linspace\n",
    "**np.linspace(start, stop, num=50, endpoint=True, retstep=False, dtype=None)**\n",
    "\n",
    "- start —— 序列的起始值\n",
    "- stop —— 序列的终止值，如果endpoint为true，该值包含于数列中\n",
    "- num —— 要生成的等步长的样本数量，默认为50\n",
    "- endpoint —— 该值为 true 时，数列中包含stop值，反之不包含，默认是True。\n",
    "- retstep —— 如果为 True 时，生成的数组中会显示间距，反之不显示。\n",
    "- dtype —— ndarray 的数据类型"
   ],
   "metadata": {}
  },
  {
   "cell_type": "code",
   "execution_count": 40,
   "source": [
    "import numpy as np\r\n",
    "a1 = np.linspace(0,10,10)\r\n",
    "a2 = np.linspace(1,10,10)\r\n",
    "a3 = np.linspace(0,10,11)\r\n",
    "arrs = [a1,a2,a3]\r\n",
    "for i in arrs:\r\n",
    "    print(i)"
   ],
   "outputs": [
    {
     "output_type": "stream",
     "name": "stdout",
     "text": [
      "[ 0.          1.11111111  2.22222222  3.33333333  4.44444444  5.55555556\n",
      "  6.66666667  7.77777778  8.88888889 10.        ]\n",
      "[ 1.  2.  3.  4.  5.  6.  7.  8.  9. 10.]\n",
      "[ 0.  1.  2.  3.  4.  5.  6.  7.  8.  9. 10.]\n"
     ]
    }
   ],
   "metadata": {}
  },
  {
   "cell_type": "markdown",
   "source": [
    "### (3)logspace\n",
    "**np.logspace(start, stop, num=50, endpoint=True, base=10.0, dtype=None)**\n",
    "\n",
    "- start —— 序列的起始值为：base ** start\n",
    "- stop —— 序列的终止值为：base ** stop。如果endpoint为true，该值包含于数列中\n",
    "- num —— 要生成的等步长的样本数量，默认为50\n",
    "- endpoint —— 该值为 true 时，数列中中包含stop值，反之不包含，默认是True。\n",
    "- base —— 对数 log 的底数，默认为10。\n",
    "- dtype —— ndarray 的数据类型"
   ],
   "metadata": {}
  },
  {
   "cell_type": "code",
   "execution_count": 46,
   "source": [
    "import numpy as np\r\n",
    "# 默认底数是 10\r\n",
    "a = np.logspace(1.0,  2.0, num =  10)  \r\n",
    "b = np.logspace(0,9,10,base=2)\r\n",
    "print (a)\r\n",
    "print(b)"
   ],
   "outputs": [
    {
     "output_type": "stream",
     "name": "stdout",
     "text": [
      "[ 10.          12.91549665  16.68100537  21.5443469   27.82559402\n",
      "  35.93813664  46.41588834  59.94842503  77.42636827 100.        ]\n",
      "[  1.   2.   4.   8.  16.  32.  64. 128. 256. 512.]\n"
     ]
    }
   ],
   "metadata": {}
  },
  {
   "cell_type": "markdown",
   "source": [
    "### (4)empty\n",
    "**numpy.empty(shape, dtype = float, order = 'C')**\n",
    "- order\t有\"C\"和\"F\"两个选项,分别代表，行优先和列优先，在计算机内存中的存储元素的顺序。\n",
    "- 默认类型 ***float***"
   ],
   "metadata": {}
  },
  {
   "cell_type": "code",
   "execution_count": 17,
   "source": [
    "import numpy as np \r\n",
    "x = np.empty([3,2], dtype = int) \r\n",
    "print (x)"
   ],
   "outputs": [
    {
     "output_type": "stream",
     "name": "stdout",
     "text": [
      "[[497815088       465]\n",
      " [        0         0]\n",
      " [   131074         0]]\n"
     ]
    }
   ],
   "metadata": {}
  },
  {
   "cell_type": "markdown",
   "source": [
    "### (5)zeros\n",
    "**numpy.zeros(shape, dtype = float, order = 'C')**\n",
    "- 默认类型 ***float***"
   ],
   "metadata": {}
  },
  {
   "cell_type": "code",
   "execution_count": 19,
   "source": [
    "import numpy as np\r\n",
    " \r\n",
    "# 默认为浮点数\r\n",
    "x = np.zeros(5) \r\n",
    "print(x)\r\n",
    " \r\n",
    "# 设置类型为整数\r\n",
    "y = np.zeros((5,), dtype = int) \r\n",
    "print(y)\r\n",
    " \r\n",
    "# 自定义类型\r\n",
    "z = np.zeros((2,2), dtype = [('x', 'i4'), ('y', 'i4')])  \r\n",
    "print(z)"
   ],
   "outputs": [
    {
     "output_type": "stream",
     "name": "stdout",
     "text": [
      "[0. 0. 0. 0. 0.]\n",
      "[0 0 0 0 0]\n",
      "[[(0, 0) (0, 0)]\n",
      " [(0, 0) (0, 0)]]\n"
     ]
    }
   ],
   "metadata": {}
  },
  {
   "cell_type": "markdown",
   "source": [
    "### (6)ones\n",
    "**numpy.ones(shape, dtype = None, order = 'C')**"
   ],
   "metadata": {}
  },
  {
   "cell_type": "code",
   "execution_count": 20,
   "source": [
    "import numpy as np\r\n",
    " \r\n",
    "# 默认为浮点数\r\n",
    "x = np.ones(5) \r\n",
    "print(x)\r\n",
    " \r\n",
    "# 自定义类型\r\n",
    "x = np.ones([2,2], dtype = int)\r\n",
    "print(x)"
   ],
   "outputs": [
    {
     "output_type": "stream",
     "name": "stdout",
     "text": [
      "[1. 1. 1. 1. 1.]\n",
      "[[1 1]\n",
      " [1 1]]\n"
     ]
    }
   ],
   "metadata": {}
  },
  {
   "cell_type": "markdown",
   "source": [
    "### (7)random函数"
   ],
   "metadata": {}
  },
  {
   "cell_type": "markdown",
   "source": [
    "- np.random.rand() --> 生成指定维度的的[0,1)范围之间的随机数，输入参数为shape"
   ],
   "metadata": {}
  },
  {
   "cell_type": "code",
   "execution_count": 28,
   "source": [
    "import numpy as np\r\n",
    "np.random.rand(2,3)"
   ],
   "outputs": [
    {
     "output_type": "execute_result",
     "data": {
      "text/plain": [
       "array([[0.77257085, 0.75606545, 0.82692918],\n",
       "       [0.93346041, 0.5447893 , 0.56386316]])"
      ]
     },
     "metadata": {},
     "execution_count": 28
    }
   ],
   "metadata": {}
  },
  {
   "cell_type": "markdown",
   "source": [
    "- np.random.randn() --> 生成指定维度的服从标准正态分布的随机数，输入参数为shape"
   ],
   "metadata": {}
  },
  {
   "cell_type": "code",
   "execution_count": 31,
   "source": [
    "import numpy as np\r\n",
    "np.random.randn(2,4)"
   ],
   "outputs": [
    {
     "output_type": "execute_result",
     "data": {
      "text/plain": [
       "array([[ 2.19447258,  2.02723069,  2.13742263,  0.78895199],\n",
       "       [-0.49143836, -0.00466576,  0.46530065,  0.04217123]])"
      ]
     },
     "metadata": {},
     "execution_count": 31
    }
   ],
   "metadata": {}
  },
  {
   "cell_type": "markdown",
   "source": [
    "- np.random.randint(low, high = None, size = None(shape),dtype = 'l')--> 返回[low,high)之间的随机数或者随机数组成的array"
   ],
   "metadata": {}
  },
  {
   "cell_type": "code",
   "execution_count": 36,
   "source": [
    "import numpy as np\r\n",
    "np.random.randint(10,size=(2,3))"
   ],
   "outputs": [
    {
     "output_type": "execute_result",
     "data": {
      "text/plain": [
       "array([[4, 1, 5],\n",
       "       [9, 4, 7]])"
      ]
     },
     "metadata": {},
     "execution_count": 36
    }
   ],
   "metadata": {}
  },
  {
   "cell_type": "markdown",
   "source": [
    "- np.random.seed() -->使随即数据可预测，对于同一个seed，生成的随机数相同"
   ],
   "metadata": {}
  },
  {
   "cell_type": "code",
   "execution_count": 38,
   "source": [
    "import numpy as np\r\n",
    "np.random.seed(0) # 0号种子\r\n",
    "print(1,np.random.rand(1))\r\n",
    "\r\n",
    "np.random.seed(1) # 1号种子\r\n",
    "print(2,np.random.rand(1))\r\n",
    "\r\n",
    "np.random.seed(1)\r\n",
    "print(3,np.random.rand(1))"
   ],
   "outputs": [
    {
     "output_type": "stream",
     "name": "stdout",
     "text": [
      "1 [0.5488135]\n",
      "2 [0.417022]\n",
      "3 [0.417022]\n"
     ]
    }
   ],
   "metadata": {}
  },
  {
   "cell_type": "markdown",
   "source": [
    "### (8)三角函数"
   ],
   "metadata": {}
  },
  {
   "cell_type": "code",
   "execution_count": 3,
   "source": [
    "import numpy as np\r\n",
    "a = np.array([0,np.pi/6,np.pi/4,np.pi/3,np.pi/2])\r\n",
    "print ('不同角度的正弦值：')\r\n",
    "# 通过乘 pi/180 转化为弧度  \r\n",
    "print (np.sin(a))\r\n",
    "print ('数组中角度的余弦值：')\r\n",
    "print (np.cos(a))\r\n",
    "print ('数组中角度的正切值：')\r\n",
    "print (np.tan(a))"
   ],
   "outputs": [
    {
     "output_type": "stream",
     "name": "stdout",
     "text": [
      "不同角度的正弦值：\n",
      "[0.         0.5        0.70710678 0.8660254  1.        ]\n",
      "数组中角度的余弦值：\n",
      "[1.00000000e+00 8.66025404e-01 7.07106781e-01 5.00000000e-01\n",
      " 6.12323400e-17]\n",
      "数组中角度的正切值：\n",
      "[0.00000000e+00 5.77350269e-01 1.00000000e+00 1.73205081e+00\n",
      " 1.63312394e+16]\n"
     ]
    }
   ],
   "metadata": {}
  },
  {
   "cell_type": "markdown",
   "source": [
    "## 4.切片与索引"
   ],
   "metadata": {}
  },
  {
   "cell_type": "markdown",
   "source": [
    "### (1)切片"
   ],
   "metadata": {}
  },
  {
   "cell_type": "code",
   "execution_count": 47,
   "source": [
    "import numpy as np\r\n",
    " \r\n",
    "a = np.arange(10)\r\n",
    "s = slice(2,7,2)   # 从索引 2 开始到索引 7 停止，间隔为2\r\n",
    "print (a[s])"
   ],
   "outputs": [
    {
     "output_type": "stream",
     "name": "stdout",
     "text": [
      "[2 4 6]\n"
     ]
    }
   ],
   "metadata": {}
  },
  {
   "cell_type": "code",
   "execution_count": 21,
   "source": [
    "import numpy as np\r\n",
    " \r\n",
    "a = np.arange(10)  \r\n",
    "b = a[2:7:2]   # 从索引 2 开始到索引 7 停止(包含2，但不包含7)，间隔为 2\r\n",
    "c = a[::-1]\r\n",
    "print(a)\r\n",
    "print(b)\r\n",
    "print(c)"
   ],
   "outputs": [
    {
     "output_type": "stream",
     "name": "stdout",
     "text": [
      "[0 1 2 3 4 5 6 7 8 9]\n",
      "[2 4 6]\n",
      "[9 8 7 6 5 4 3 2 1 0]\n"
     ]
    }
   ],
   "metadata": {}
  },
  {
   "cell_type": "code",
   "execution_count": 23,
   "source": [
    "import numpy as np\r\n",
    "a = np.arange(24).reshape(6,4)\r\n",
    "print(a,end=\"\\n\\n\")\r\n",
    "print(a[:2]) # 前3行\r\n",
    "print(a[:,2],end=\"\\n\\n\") # 第3列，即每一行的第3个数据\r\n",
    "print(a[1,:],end=\"\\n\\n\") # 第2行，即第2行的所有数据\r\n",
    "print(a[3:5,1:3]) # 索引3行到5行（不含5）的1列到3列（不含3）"
   ],
   "outputs": [
    {
     "output_type": "stream",
     "name": "stdout",
     "text": [
      "[[ 0  1  2  3]\n",
      " [ 4  5  6  7]\n",
      " [ 8  9 10 11]\n",
      " [12 13 14 15]\n",
      " [16 17 18 19]\n",
      " [20 21 22 23]]\n",
      "\n",
      "[[0 1 2 3]\n",
      " [4 5 6 7]]\n",
      "[ 2  6 10 14 18 22]\n",
      "\n",
      "[4 5 6 7]\n",
      "\n",
      "[[13 14]\n",
      " [17 18]]\n"
     ]
    }
   ],
   "metadata": {}
  },
  {
   "cell_type": "markdown",
   "source": [
    "### (2)高级索引"
   ],
   "metadata": {}
  },
  {
   "cell_type": "markdown",
   "source": [
    "#### 整数数组索引\n",
    "以下实例获取数组中(0,0)，(1,1)和(2,0)位置处的元素。"
   ],
   "metadata": {}
  },
  {
   "cell_type": "code",
   "execution_count": 53,
   "source": [
    "import numpy as np \r\n",
    " \r\n",
    "x = np.array([[1,  2],  [3,  4],  [5,  6]]) \r\n",
    "y = x[[0,1,2],  [0,1,0]]  \r\n",
    "print (y)"
   ],
   "outputs": [
    {
     "output_type": "stream",
     "name": "stdout",
     "text": [
      "[1 4 5]\n"
     ]
    }
   ],
   "metadata": {}
  },
  {
   "cell_type": "markdown",
   "source": [
    "以下实例获取了 4X3 数组中的四个角的元素。 行索引是 [0,0] 和 [3,3]，而列索引是 [0,2] 和 [0,2]。"
   ],
   "metadata": {}
  },
  {
   "cell_type": "code",
   "execution_count": 54,
   "source": [
    "import numpy as np \r\n",
    " \r\n",
    "x = np.array([[  0,  1,  2],[  3,  4,  5],[  6,  7,  8],[  9,  10,  11]])  \r\n",
    "print ('我们的数组是：' )\r\n",
    "print (x)\r\n",
    "print ('\\n')\r\n",
    "rows = np.array([[0,0],[3,3]]) \r\n",
    "cols = np.array([[0,2],[0,2]]) \r\n",
    "y = x[rows,cols]  \r\n",
    "print  ('这个数组的四个角元素是：')\r\n",
    "print (y)"
   ],
   "outputs": [
    {
     "output_type": "stream",
     "name": "stdout",
     "text": [
      "我们的数组是：\n",
      "[[ 0  1  2]\n",
      " [ 3  4  5]\n",
      " [ 6  7  8]\n",
      " [ 9 10 11]]\n",
      "\n",
      "\n",
      "这个数组的四个角元素是：\n",
      "[[ 0  2]\n",
      " [ 9 11]]\n"
     ]
    }
   ],
   "metadata": {}
  },
  {
   "cell_type": "markdown",
   "source": [
    "#### 布尔索引"
   ],
   "metadata": {}
  },
  {
   "cell_type": "code",
   "execution_count": 56,
   "source": [
    "import numpy as np \r\n",
    " \r\n",
    "x = np.array([[  0,  1,  2],[  3,  4,  5],[  6,  7,  8],[  9,  10,  11]])  \r\n",
    "print ('我们的数组是：')\r\n",
    "print (x)\r\n",
    "print ('\\n')\r\n",
    "# 现在我们会打印出大于 5 的元素  \r\n",
    "print  ('大于 5 的元素是：')\r\n",
    "print (x[x >  5])"
   ],
   "outputs": [
    {
     "output_type": "stream",
     "name": "stdout",
     "text": [
      "我们的数组是：\n",
      "[[ 0  1  2]\n",
      " [ 3  4  5]\n",
      " [ 6  7  8]\n",
      " [ 9 10 11]]\n",
      "\n",
      "\n",
      "大于 5 的元素是：\n",
      "[ 6  7  8  9 10 11]\n"
     ]
    }
   ],
   "metadata": {}
  },
  {
   "cell_type": "code",
   "execution_count": 57,
   "source": [
    "import numpy as np \r\n",
    " \r\n",
    "a = np.array([np.nan,  1,2,np.nan,3,4,5])  \r\n",
    "print (a[~np.isnan(a)])"
   ],
   "outputs": [
    {
     "output_type": "stream",
     "name": "stdout",
     "text": [
      "[1. 2. 3. 4. 5.]\n"
     ]
    }
   ],
   "metadata": {}
  },
  {
   "cell_type": "markdown",
   "source": [
    "#### 花式索引\n",
    "- 花式索引指的是利用整数数组进行索引。\n",
    "- 花式索引根据索引数组的值作为目标数组的某个轴的下标来取值。对于使用一维整型数组作为索引，如果目标是一维数组，那么索引的结果就是对应下标的行，如果目标是二维数组，那么就是对应位置的元素。\n",
    "- 花式索引跟切片不一样，它总是将数据复制到新数组中。"
   ],
   "metadata": {}
  },
  {
   "cell_type": "code",
   "execution_count": 60,
   "source": [
    "# 传入顺序索引数组\r\n",
    "import numpy as np \r\n",
    "x=np.arange(32).reshape((8,4))\r\n",
    "print (x[[4,2,1,7]]) # 第5，3，2，8行"
   ],
   "outputs": [
    {
     "output_type": "stream",
     "name": "stdout",
     "text": [
      "[[16 17 18 19]\n",
      " [ 8  9 10 11]\n",
      " [ 4  5  6  7]\n",
      " [28 29 30 31]]\n"
     ]
    }
   ],
   "metadata": {}
  },
  {
   "cell_type": "code",
   "execution_count": 61,
   "source": [
    "# 传入倒序索引数组\r\n",
    "import numpy as np \r\n",
    "x=np.arange(32).reshape((8,4))\r\n",
    "print (x[[-4,-2,-1,-7]])"
   ],
   "outputs": [
    {
     "output_type": "stream",
     "name": "stdout",
     "text": [
      "[[16 17 18 19]\n",
      " [24 25 26 27]\n",
      " [28 29 30 31]\n",
      " [ 4  5  6  7]]\n"
     ]
    }
   ],
   "metadata": {}
  },
  {
   "cell_type": "code",
   "execution_count": 62,
   "source": [
    "# 传入多个索引数组（要使用np.ix_）\r\n",
    "import numpy as np \r\n",
    "x=np.arange(32).reshape((8,4))\r\n",
    "print (x[np.ix_([1,5,7,2],[0,3,1,2])])"
   ],
   "outputs": [
    {
     "output_type": "stream",
     "name": "stdout",
     "text": [
      "[[ 4  7  5  6]\n",
      " [20 23 21 22]\n",
      " [28 31 29 30]\n",
      " [ 8 11  9 10]]\n"
     ]
    }
   ],
   "metadata": {}
  },
  {
   "cell_type": "markdown",
   "source": [
    "## 5.numpy广播\n",
    "**广播(Broadcast)是 numpy 对不同形状(shape)的数组进行数值计算的方式**\n",
    "- 让所有输入数组都向其中形状最长的数组看齐，形状中不足的部分都通过在前面加 1 补齐。\n",
    "- 输出数组的形状是输入数组形状的各个维度上的最大值。\n",
    "- 如果输入数组的某个维度和输出数组的对应维度的长度相同或者其长度为 1 时，这个数组能够用来计算，否则出错。\n",
    "- 当输入数组的某个维度的长度为 1 时，沿着此维度运算时都用此维度上的第一组值。"
   ],
   "metadata": {}
  },
  {
   "cell_type": "markdown",
   "source": [
    "### (1)a.shape == b.shape"
   ],
   "metadata": {}
  },
  {
   "cell_type": "code",
   "execution_count": 4,
   "source": [
    "import numpy as np \r\n",
    "a = np.array([1,2,3,4]) \r\n",
    "b = np.array([10,20,30,40]) \r\n",
    "c = a * b \r\n",
    "print (c)"
   ],
   "outputs": [
    {
     "output_type": "stream",
     "name": "stdout",
     "text": [
      "[ 10  40  90 160]\n"
     ]
    }
   ],
   "metadata": {}
  },
  {
   "cell_type": "markdown",
   "source": [
    "### (2)a.shape != b.shape"
   ],
   "metadata": {}
  },
  {
   "cell_type": "code",
   "execution_count": 5,
   "source": [
    "import numpy as np \r\n",
    "a = np.array([[ 0, 0, 0],\r\n",
    "           [10,10,10],\r\n",
    "           [20,20,20],\r\n",
    "           [30,30,30]])\r\n",
    "b = np.array([1,2,3])\r\n",
    "print(a + b)"
   ],
   "outputs": [
    {
     "output_type": "stream",
     "name": "stdout",
     "text": [
      "[[ 1  2  3]\n",
      " [11 12 13]\n",
      " [21 22 23]\n",
      " [31 32 33]]\n"
     ]
    }
   ],
   "metadata": {}
  },
  {
   "cell_type": "markdown",
   "source": [
    "![image.png](attachment:5817c006-31df-4651-bdb6-9b614a6d8a09.png)"
   ],
   "metadata": {},
   "attachments": {
    "5817c006-31df-4651-bdb6-9b614a6d8a09.png": {
     "image/png": "[encoded data removed]"
    }
   }
  },
  {
   "cell_type": "code",
   "execution_count": 6,
   "source": [
    "import numpy as np \r\n",
    "a = np.array([[ 0, 0, 0],\r\n",
    "           [10,10,10],\r\n",
    "           [20,20,20],\r\n",
    "           [30,30,30]])\r\n",
    "b = np.array([1,2,3])\r\n",
    "bb = np.tile(b, (4, 1))  # 重复 b 的各个维度\r\n",
    "print(a + bb)"
   ],
   "outputs": [
    {
     "output_type": "stream",
     "name": "stdout",
     "text": [
      "[[ 1  2  3]\n",
      " [11 12 13]\n",
      " [21 22 23]\n",
      " [31 32 33]]\n"
     ]
    }
   ],
   "metadata": {}
  },
  {
   "cell_type": "markdown",
   "source": [
    "## 6.迭代数组\r\n",
    "- NumPy 迭代器对象 numpy.nditer 提供了一种灵活访问一个或者多个数组元素的方式。\r\n",
    "- 迭代器最基本的任务的可以完成对数组元素的访问。"
   ],
   "metadata": {}
  },
  {
   "cell_type": "code",
   "execution_count": 25,
   "source": [
    "import numpy as np\r\n",
    "a = np.arange(6).reshape(2,3)\r\n",
    "print ('原始数组是：')\r\n",
    "print (a)\r\n",
    "print ('\\n')\r\n",
    "print ('迭代输出元素：')\r\n",
    "for x in np.nditer(a):\r\n",
    "    print (x, end=\", \" )\r\n",
    "print ('\\n')"
   ],
   "outputs": [
    {
     "output_type": "stream",
     "name": "stdout",
     "text": [
      "原始数组是：\n",
      "[[0 1 2]\n",
      " [3 4 5]]\n",
      "\n",
      "\n",
      "迭代输出元素：\n",
      "0, 1, 2, 3, 4, 5, \n",
      "\n"
     ]
    }
   ],
   "metadata": {}
  },
  {
   "cell_type": "code",
   "execution_count": 30,
   "source": [
    "import numpy as np\r\n",
    "a = np.arange(6).reshape(2,3)\r\n",
    "print(a)\r\n",
    "print(a.T)\r\n",
    "for x in np.nditer(a.T): # a的转置,默认以原数组的行序访问\r\n",
    "    print (x, end=\", \" )\r\n",
    "print ('\\n')\r\n",
    " \r\n",
    "for x in np.nditer(a.T.copy(order='C')): # 转置的行序优先\r\n",
    "    print (x, end=\", \" )\r\n",
    "print ('\\n')"
   ],
   "outputs": [
    {
     "output_type": "stream",
     "name": "stdout",
     "text": [
      "[[0 1 2]\n",
      " [3 4 5]]\n",
      "[[0 3]\n",
      " [1 4]\n",
      " [2 5]]\n",
      "0, 1, 2, 3, 4, 5, \n",
      "\n",
      "0, 3, 1, 4, 2, 5, \n",
      "\n"
     ]
    }
   ],
   "metadata": {}
  },
  {
   "cell_type": "code",
   "execution_count": 32,
   "source": [
    "# 修改\r\n",
    "import numpy as np\r\n",
    "a = np.arange(0,60,5) \r\n",
    "a = a.reshape(3,4)  \r\n",
    "print ('原始数组是：')\r\n",
    "print (a)\r\n",
    "print ('\\n')\r\n",
    "for x in np.nditer(a, op_flags=['readwrite']): \r\n",
    "    x[...]=2*x # x只是指针，x[...]代表修改的是原元素\r\n",
    "print ('修改后的数组是：')\r\n",
    "print (a)"
   ],
   "outputs": [
    {
     "output_type": "stream",
     "name": "stdout",
     "text": [
      "原始数组是：\n",
      "[[ 0  5 10 15]\n",
      " [20 25 30 35]\n",
      " [40 45 50 55]]\n",
      "\n",
      "\n",
      "修改后的数组是：\n",
      "[[  0  10  20  30]\n",
      " [ 40  50  60  70]\n",
      " [ 80  90 100 110]]\n"
     ]
    }
   ],
   "metadata": {}
  },
  {
   "cell_type": "markdown",
   "source": [
    "## 7.数组运算"
   ],
   "metadata": {}
  },
  {
   "cell_type": "markdown",
   "source": [
    "- 同一维： 各项分别加减乘除\r\n",
    "- 一个一维，一个多维：广播\r\n",
    "- 两个多维，无法直接计算"
   ],
   "metadata": {}
  },
  {
   "cell_type": "code",
   "execution_count": 5,
   "source": [
    "import numpy as np\r\n",
    " \r\n",
    "a = np.array([4,2,3])\r\n",
    "b = np.array([2,5,7])\r\n",
    " \r\n",
    "c = a+b\r\n",
    "d = a-b\r\n",
    "e = a*b\r\n",
    "f = a/b\r\n",
    " \r\n",
    "print(\"加%s\" % c)\r\n",
    "print(\"减%s\" % d)\r\n",
    "print(\"乘%s\" % e)\r\n",
    "print(\"除%s\" % f)"
   ],
   "outputs": [
    {
     "output_type": "stream",
     "name": "stdout",
     "text": [
      "加[ 6  7 10]\n",
      "减[ 2 -3 -4]\n",
      "乘[ 8 10 21]\n",
      "除[2.         0.4        0.42857143]\n"
     ]
    }
   ],
   "metadata": {}
  },
  {
   "cell_type": "code",
   "execution_count": 6,
   "source": [
    "import numpy as np\r\n",
    " \r\n",
    "a = np.array([4,2,3])\r\n",
    "b = np.array([[2,5,7],[1,2,3]])\r\n",
    " \r\n",
    "c = a+b\r\n",
    "d = a-b\r\n",
    "e = a*b\r\n",
    "f = a/b\r\n",
    " \r\n",
    "print(\"加%s\" % c)\r\n",
    "print(\"减%s\" % d)\r\n",
    "print(\"乘%s\" % e)\r\n",
    "print(\"除%s\" % f)"
   ],
   "outputs": [
    {
     "output_type": "stream",
     "name": "stdout",
     "text": [
      "加[[ 6  7 10]\n",
      " [ 5  4  6]]\n",
      "减[[ 2 -3 -4]\n",
      " [ 3  0  0]]\n",
      "乘[[ 8 10 21]\n",
      " [ 4  4  9]]\n",
      "除[[2.         0.4        0.42857143]\n",
      " [4.         1.         1.        ]]\n"
     ]
    }
   ],
   "metadata": {}
  },
  {
   "cell_type": "code",
   "execution_count": 10,
   "source": [
    "import numpy as np\r\n",
    "# 此方法只能一维，多维报错\r\n",
    "a = np.array([4,2,3])\r\n",
    "\r\n",
    "c = a+2\r\n",
    "d = a-2\r\n",
    "e = a*2\r\n",
    "f = a/2\r\n",
    " \r\n",
    "print(\"加%s\" % c)\r\n",
    "print(\"减%s\" % d)\r\n",
    "print(\"乘%s\" % e)\r\n",
    "print(\"除%s\" % f)"
   ],
   "outputs": [
    {
     "output_type": "stream",
     "name": "stdout",
     "text": [
      "加[6 4 5]\n",
      "减[2 0 1]\n",
      "乘[8 4 6]\n",
      "除[2.  1.  1.5]\n"
     ]
    }
   ],
   "metadata": {}
  }
 ],
 "metadata": {
  "kernelspec": {
   "name": "python3",
   "display_name": "Python 3.8.10 64-bit ('tensorflow': conda)"
  },
  "language_info": {
   "codemirror_mode": {
    "name": "ipython",
    "version": 3
   },
   "file_extension": ".py",
   "mimetype": "text/x-python",
   "name": "python",
   "nbconvert_exporter": "python",
   "pygments_lexer": "ipython3",
   "version": "3.8.10"
  },
  "interpreter": {
   "hash": "4f8d49cc1c12cacec246f9c62a156171c37f24bf321fb76bc8a73fb98704a7dc"
  }
 },
 "nbformat": 4,
 "nbformat_minor": 5
}
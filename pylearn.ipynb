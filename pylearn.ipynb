{
 "cells": [
  {
   "cell_type": "markdown",
   "id": "99fe2c25-47f4-4020-b88f-564ad709b904",
   "metadata": {
    "tags": []
   },
   "source": [
    "# pylearn"
   ]
  },
  {
   "cell_type": "markdown",
   "id": "722a60ed-ae98-4852-81e0-29f0b1d10b41",
   "metadata": {
    "tags": []
   },
   "source": [
    "## 一.数据类型"
   ]
  },
  {
   "cell_type": "markdown",
   "id": "2d34c896-da49-4da8-8597-bbf3ee84e553",
   "metadata": {
    "tags": []
   },
   "source": [
    "### 1.数字"
   ]
  },
  {
   "cell_type": "code",
   "execution_count": null,
   "id": "a247b59b-ca98-4e40-a8e1-4c0ca8b705f6",
   "metadata": {},
   "outputs": [
    {
     "name": "stdout",
     "output_type": "stream",
     "text": [
      "10 1.2 (1+2j) True\n",
      "<class 'int'> <class 'float'> <class 'complex'> <class 'bool'> <class 'str'>\n"
     ]
    }
   ],
   "source": [
    "'''\n",
    "文本类型：\tstr\n",
    "数值类型：\tint, float, complex\n",
    "序列类型：\tlist, tuple, range\n",
    "映射类型：\tdict\n",
    "集合类型：\tset, frozenset\n",
    "布尔类型：\tbool\n",
    "二进制类型：\tbytes, bytearray, memoryview\n",
    "'''\n",
    "n1 = 10\n",
    "n2 = 1.2\n",
    "n3 = 1 + 2j\n",
    "n4 = True\n",
    "n5 = \"1.2\"\n",
    "print(n1, n2, n3, n4)\n",
    "print(type(n1),type(n2),type(n3),type(n4),type(n5))"
   ]
  },
  {
   "cell_type": "markdown",
   "id": "33e3539a-35e6-4ae1-be7c-bedf827d4fec",
   "metadata": {
    "tags": []
   },
   "source": [
    "#### (1)数据类型转换"
   ]
  },
  {
   "cell_type": "code",
   "execution_count": null,
   "id": "dcc44266-d9a8-4679-a075-8f00dd8ca1d4",
   "metadata": {},
   "outputs": [
    {
     "data": {
      "text/plain": [
       "3"
      ]
     },
     "execution_count": 46,
     "metadata": {},
     "output_type": "execute_result"
    }
   ],
   "source": [
    "int(3.1415926)"
   ]
  },
  {
   "cell_type": "code",
   "execution_count": null,
   "id": "1b0af3b5-3a10-44f5-b6d0-f4eb56d64ccc",
   "metadata": {},
   "outputs": [
    {
     "data": {
      "text/plain": [
       "23.0"
      ]
     },
     "execution_count": 47,
     "metadata": {},
     "output_type": "execute_result"
    }
   ],
   "source": [
    "float(23)"
   ]
  },
  {
   "cell_type": "code",
   "execution_count": null,
   "id": "ee9a6cbf-5944-4edc-8a3d-363d7f290261",
   "metadata": {},
   "outputs": [
    {
     "data": {
      "text/plain": [
       "(2+3j)"
      ]
     },
     "execution_count": 48,
     "metadata": {},
     "output_type": "execute_result"
    }
   ],
   "source": [
    "complex(2,3)"
   ]
  },
  {
   "cell_type": "markdown",
   "id": "30ef32a6-e1ab-442e-9e75-939889074ec9",
   "metadata": {},
   "source": [
    "#### (2)数字运算"
   ]
  },
  {
   "cell_type": "code",
   "execution_count": null,
   "id": "5001008e-90a7-4354-86eb-3d7ad5510b34",
   "metadata": {},
   "outputs": [],
   "source": [
    "1 + 2"
   ]
  },
  {
   "cell_type": "code",
   "execution_count": null,
   "id": "f8b184ab-6a4a-412b-98df-b380520e4761",
   "metadata": {},
   "outputs": [],
   "source": [
    "1 - 2"
   ]
  },
  {
   "cell_type": "code",
   "execution_count": null,
   "id": "d1d62365-4d38-47d6-a85c-00862c2777cb",
   "metadata": {},
   "outputs": [],
   "source": [
    "2 * 3"
   ]
  },
  {
   "cell_type": "code",
   "execution_count": null,
   "id": "6522b174-ac4f-40f3-a5de-0ce2d4c4eee5",
   "metadata": {},
   "outputs": [
    {
     "data": {
      "text/plain": [
       "4.6"
      ]
     },
     "execution_count": 59,
     "metadata": {},
     "output_type": "execute_result"
    }
   ],
   "source": [
    "23 / 5 # 不取整的除法"
   ]
  },
  {
   "cell_type": "code",
   "execution_count": null,
   "id": "a9ca3a2d-e16b-4b71-b557-c97c33bd6e1f",
   "metadata": {},
   "outputs": [
    {
     "data": {
      "text/plain": [
       "4"
      ]
     },
     "execution_count": 60,
     "metadata": {},
     "output_type": "execute_result"
    }
   ],
   "source": [
    "23 // 5 # 取整的除法"
   ]
  },
  {
   "cell_type": "code",
   "execution_count": null,
   "id": "4f4160f2-546e-41c5-a570-3b451f7e20ca",
   "metadata": {},
   "outputs": [
    {
     "data": {
      "text/plain": [
       "3"
      ]
     },
     "execution_count": 61,
     "metadata": {},
     "output_type": "execute_result"
    }
   ],
   "source": [
    "23 % 5"
   ]
  },
  {
   "cell_type": "code",
   "execution_count": null,
   "id": "9786c18c-e23f-4449-8eff-b967af7815e8",
   "metadata": {},
   "outputs": [
    {
     "data": {
      "text/plain": [
       "27"
      ]
     },
     "execution_count": 50,
     "metadata": {},
     "output_type": "execute_result"
    }
   ],
   "source": [
    "3 ** 3 # ---3的3次方---"
   ]
  },
  {
   "cell_type": "markdown",
   "id": "a2096d3a-e967-4420-8594-1afd8c1c0a65",
   "metadata": {},
   "source": [
    "#### (3)数学函数"
   ]
  },
  {
   "cell_type": "code",
   "execution_count": null,
   "id": "6f5cc6b6-c222-4f83-b0b5-6652bb3e9569",
   "metadata": {},
   "outputs": [
    {
     "name": "stdout",
     "output_type": "stream",
     "text": [
      "5.0\n",
      "2.718281828459045\n",
      "555\n",
      "3.141592653589793 2.718281828459045\n",
      "45.0\n",
      "0.49999999999999994\n"
     ]
    }
   ],
   "source": [
    "import math\n",
    "print(math.sqrt(25))\n",
    "print(math.exp(1)) # e的k次方\n",
    "print(abs(555))\n",
    "from math import pi,e\n",
    "print(pi,e)\n",
    "\n",
    "print(math.degrees(pi/4))\n",
    "print(math.sin(pi/6))"
   ]
  },
  {
   "cell_type": "markdown",
   "id": "76dda324-d1a1-4cd6-8d0d-5e4d55c326eb",
   "metadata": {},
   "source": [
    "#### (4)随机数"
   ]
  },
  {
   "cell_type": "code",
   "execution_count": null,
   "id": "d17272eb-99a7-429a-a7d4-cc5173b003e7",
   "metadata": {},
   "outputs": [
    {
     "data": {
      "text/plain": [
       "'b'"
      ]
     },
     "execution_count": 113,
     "metadata": {},
     "output_type": "execute_result"
    }
   ],
   "source": [
    "import random\n",
    "random.random() # 0~1之间\n",
    "random.choice(\"123abc789,./zxp\") # 从该串中选一个char"
   ]
  },
  {
   "cell_type": "markdown",
   "id": "274927bb-15ed-4236-bcec-82a3c9f8af3f",
   "metadata": {
    "tags": []
   },
   "source": [
    "### 2.List列表\n",
    "最常用数据类型"
   ]
  },
  {
   "cell_type": "code",
   "execution_count": 2,
   "id": "9b7affa9-b170-4b1d-b19c-a483305c7665",
   "metadata": {},
   "outputs": [
    {
     "name": "stdout",
     "output_type": "stream",
     "text": [
      "[1, 2, 3, 4, 5, 6, 7, 8, 9]\n"
     ]
    }
   ],
   "source": [
    "list1 = [1,2,3,4,5,6,7,8,9]\n",
    "print(list1)"
   ]
  },
  {
   "cell_type": "code",
   "execution_count": 4,
   "id": "ed28fd7b-901e-4da8-8177-542c76b1479c",
   "metadata": {},
   "outputs": [
    {
     "name": "stdout",
     "output_type": "stream",
     "text": [
      "[[2, 3], [4, 5]]\n"
     ]
    }
   ],
   "source": [
    "list2 = [[2,3],[4,5]]\n",
    "print(list2)"
   ]
  },
  {
   "cell_type": "markdown",
   "id": "9d109cad-2d5a-4ac3-bf79-f6912bc0a187",
   "metadata": {
    "tags": []
   },
   "source": [
    "#### (1)访问列表"
   ]
  },
  {
   "cell_type": "code",
   "execution_count": 6,
   "id": "920629aa-34e5-4049-bdf6-33554f535394",
   "metadata": {},
   "outputs": [
    {
     "name": "stdout",
     "output_type": "stream",
     "text": [
      "1 [2, 3] 5\n",
      "[1, 2]\n",
      "[3, 4, 5, 6, 7, 8, 9]\n"
     ]
    }
   ],
   "source": [
    "print(list1[0], list2[0], list2[1][1])\n",
    "print(list1[:2]) # 前k个\n",
    "print(list1[2:]) # 第k个及之后所有元素"
   ]
  },
  {
   "cell_type": "markdown",
   "id": "d11a5c71-5aa7-4fda-93b5-4a309d873d6b",
   "metadata": {
    "jp-MarkdownHeadingCollapsed": true,
    "tags": []
   },
   "source": [
    "#### (2)更新，删除，拼接，截取，嵌套"
   ]
  },
  {
   "cell_type": "code",
   "execution_count": null,
   "id": "eba83719-6005-44af-a4fc-f3398261675e",
   "metadata": {},
   "outputs": [],
   "source": [
    "list = [1,2,3,4,5,6,7,8,9]"
   ]
  },
  {
   "cell_type": "code",
   "execution_count": null,
   "id": "e9f6ae09-4df1-47f2-9734-42e56b3eebb9",
   "metadata": {},
   "outputs": [
    {
     "name": "stdout",
     "output_type": "stream",
     "text": [
      "[1, 2, 3, 99, 5, 6, 7, 8, 9]\n"
     ]
    }
   ],
   "source": [
    "# update\n",
    "list[3] = 99\n",
    "print(list)"
   ]
  },
  {
   "cell_type": "code",
   "execution_count": null,
   "id": "df56c74f-871a-4768-b4de-eaed0148fb15",
   "metadata": {},
   "outputs": [
    {
     "name": "stdout",
     "output_type": "stream",
     "text": [
      "[1, 2, 3, 5, 6, 7, 8, 9]\n"
     ]
    }
   ],
   "source": [
    "# delete\n",
    "del list[3]\n",
    "print(list)"
   ]
  },
  {
   "cell_type": "code",
   "execution_count": null,
   "id": "758903a6-9df4-42a6-b1db-72c116790cc8",
   "metadata": {},
   "outputs": [
    {
     "name": "stdout",
     "output_type": "stream",
     "text": [
      "[7, 8, 9]\n"
     ]
    }
   ],
   "source": [
    "# 截取\n",
    "list1 = list[5:8]\n",
    "print(list1)"
   ]
  },
  {
   "cell_type": "code",
   "execution_count": null,
   "id": "3e7c35bb-97dc-49cd-b5e8-247daa8052a2",
   "metadata": {},
   "outputs": [
    {
     "name": "stdout",
     "output_type": "stream",
     "text": [
      "[7, 8, 9, 1, 2, 3, 5, 6, 7, 8, 9]\n"
     ]
    }
   ],
   "source": [
    "# 拼接\n",
    "list2 = list1 + list\n",
    "print(list2)"
   ]
  },
  {
   "cell_type": "code",
   "execution_count": null,
   "id": "647cfa32-7b50-48ec-a676-a23ae5b217d2",
   "metadata": {},
   "outputs": [
    {
     "name": "stdout",
     "output_type": "stream",
     "text": [
      "[[1, 2, 3, 5, 6, 7, 8, 9], [7, 8, 9], [7, 8, 9, 1, 2, 3, 5, 6, 7, 8, 9]]\n"
     ]
    }
   ],
   "source": [
    "# 嵌套\n",
    "list3 = [list, list1, list2]\n",
    "print(list3)"
   ]
  },
  {
   "cell_type": "markdown",
   "id": "6cb0b771-c2db-4388-982b-e5431462f54b",
   "metadata": {
    "jp-MarkdownHeadingCollapsed": true,
    "tags": []
   },
   "source": [
    "#### (3)list函数"
   ]
  },
  {
   "cell_type": "code",
   "execution_count": null,
   "id": "d00514b2-d20a-48ba-86cb-15ffc45d419b",
   "metadata": {},
   "outputs": [
    {
     "name": "stdout",
     "output_type": "stream",
     "text": [
      "['name', 'time', 'age', 'weight', 'school']\n"
     ]
    }
   ],
   "source": [
    "# append 末尾添加\n",
    "list = ['name', 'time', 'age', 'weight']\n",
    "list.append('school')\n",
    "print(list)"
   ]
  },
  {
   "cell_type": "code",
   "execution_count": null,
   "id": "0630285a-2d44-4725-b818-0d5498efe2c1",
   "metadata": {},
   "outputs": [
    {
     "name": "stdout",
     "output_type": "stream",
     "text": [
      "['name', 'time', 'school', 'age', 'weight']\n",
      "school\n",
      "['name', 'time', 'age', 'weight']\n"
     ]
    }
   ],
   "source": [
    "# insert\n",
    "list = ['name', 'time', 'age', 'weight']\n",
    "list.insert(2,'school')\n",
    "print(list)\n",
    "\n",
    "# pop 弹出元素\n",
    "# 与del区别在于：list.pop(k)，保存了第k+1个元素\n",
    "print(list.pop(2))\n",
    "print(list)"
   ]
  },
  {
   "cell_type": "code",
   "execution_count": null,
   "id": "07192987-f395-47eb-8326-72c0d060241a",
   "metadata": {},
   "outputs": [
    {
     "name": "stdout",
     "output_type": "stream",
     "text": [
      "6\n",
      "9999\n"
     ]
    }
   ],
   "source": [
    "# count 计算出现次数\n",
    "list = [1,2,3,1,2,3,1,1,1,1,6,7,8,9999,0,5,6,7,8]\n",
    "print(list.count(1))\n",
    "\n",
    "# max显示最大值\n",
    "print(max(list))"
   ]
  },
  {
   "cell_type": "markdown",
   "id": "9f22753c-359a-489f-83fd-32123f0b33ba",
   "metadata": {
    "tags": []
   },
   "source": [
    "### 3.String\n",
    "- 字符串可看作特殊的list"
   ]
  },
  {
   "cell_type": "markdown",
   "id": "fd067d94-a3af-4271-b48e-9c2ee4e1c025",
   "metadata": {},
   "source": [
    "#### (1)格式化字符串"
   ]
  },
  {
   "cell_type": "code",
   "execution_count": null,
   "id": "895a33aa-e9c6-49a9-ac6a-107fd0e6d0a5",
   "metadata": {},
   "outputs": [
    {
     "name": "stdout",
     "output_type": "stream",
     "text": [
      "your name is zxc and your age is 666\n",
      "your name is zxc and your age is 666\n"
     ]
    },
    {
     "name": "stdin",
     "output_type": "stream",
     "text": [
      "name: lyk\n",
      "age: 22\n",
      "name: lyk\n"
     ]
    }
   ],
   "source": [
    "print(\"your name is {1} and your age is {0}\".format(age,name))\n",
    "print(\"your name is {name} and your age is {age}\".format(age=age,name=name))\n",
    "name = input(\"name:\")\n",
    "age = input(\"age:\")"
   ]
  },
  {
   "cell_type": "markdown",
   "id": "b0bafd96-1f6f-40f3-b97c-e363435d64fa",
   "metadata": {
    "jp-MarkdownHeadingCollapsed": true,
    "tags": []
   },
   "source": [
    "### 4.Tuple元组\n",
    "- 元组类似于列表，但元组中的元素不能更改；\n",
    "\n",
    "- 元组使用( )小括号，列表中括号"
   ]
  },
  {
   "cell_type": "markdown",
   "id": "68a1d384-8051-44a5-9115-033a080ea34c",
   "metadata": {
    "jp-MarkdownHeadingCollapsed": true,
    "tags": []
   },
   "source": [
    "### 5.set集合\n",
    "- 无序不重复，可用{ }或set()函数创建"
   ]
  },
  {
   "cell_type": "code",
   "execution_count": 2,
   "id": "f68dfba2-f39a-4d19-8d35-0b65d59f9e4d",
   "metadata": {},
   "outputs": [
    {
     "name": "stdout",
     "output_type": "stream",
     "text": [
      "{0, 1, 2, 3, 4}\n",
      "{'a', 'asd', 'b', 'aaa'}\n"
     ]
    }
   ],
   "source": [
    "# 可用set来去除列表中的重复元素，如下：\n",
    "a = [0,0,0,1,1,1,2,2,3,3,3,3,3,4]\n",
    "b = [\"aaa\",\"aaa\",\"a\",\"b\",\"b\",\"asd\",\"asd\"]\n",
    "print(set(a))\n",
    "print(set(b))"
   ]
  },
  {
   "cell_type": "markdown",
   "id": "0ceef5a2-347a-4820-9fb3-776b9d5c6e28",
   "metadata": {
    "tags": []
   },
   "source": [
    "### 6.dictionary字典\n",
    "- 键值对，以,逗号分隔元素，整个字典包括在{ }中,如下："
   ]
  },
  {
   "cell_type": "markdown",
   "id": "21edd922-1885-4c93-b0d0-485a2b4a1510",
   "metadata": {},
   "source": [
    "&emsp; **d = {key1:value1, key2:value2}**"
   ]
  },
  {
   "cell_type": "code",
   "execution_count": 19,
   "id": "c37a09f1-3175-4822-87ec-63b6005e1ac5",
   "metadata": {},
   "outputs": [
    {
     "name": "stdout",
     "output_type": "stream",
     "text": [
      "Jan\n"
     ]
    }
   ],
   "source": [
    "month = {\n",
    "    1: \"Jan\",\n",
    "    2: \"Feb\",\n",
    "    3: \"Mar\",\n",
    "    4: \"Apr\",\n",
    "    5: \"May\",\n",
    "    6: \"Jun\",\n",
    "    7: \"Jul\",\n",
    "    8: \"Aug\",\n",
    "    9: \"Sept\",\n",
    "    10: \"Oct\",\n",
    "    11: \"Nov\",\n",
    "    12: \"Dec\"\n",
    "}\n",
    "print(month[1]) # 注:没有month[0]，这是键值对"
   ]
  },
  {
   "cell_type": "markdown",
   "id": "d2f294a7-dadd-4e12-b539-251fcc481e17",
   "metadata": {
    "tags": []
   },
   "source": [
    "## 二.输入输出"
   ]
  },
  {
   "cell_type": "markdown",
   "id": "d0855b97-164c-437c-95da-76b4d93cc026",
   "metadata": {
    "tags": []
   },
   "source": [
    "### 1.输入"
   ]
  },
  {
   "cell_type": "code",
   "execution_count": 20,
   "id": "d470a707-049b-4b5e-8e3f-b6499982d1a0",
   "metadata": {},
   "outputs": [
    {
     "name": "stdin",
     "output_type": "stream",
     "text": [
      "请输入： 123\n"
     ]
    },
    {
     "name": "stdout",
     "output_type": "stream",
     "text": [
      "123\n"
     ]
    }
   ],
   "source": [
    "str = input(\"请输入：\")\n",
    "print(str)"
   ]
  },
  {
   "cell_type": "markdown",
   "id": "5b871d01-85af-4533-b3e6-f4f630f876d6",
   "metadata": {
    "tags": []
   },
   "source": [
    "### 2.文件"
   ]
  },
  {
   "cell_type": "code",
   "execution_count": 23,
   "id": "e3e0b0b9-7599-4aed-8f53-e6863256fd98",
   "metadata": {},
   "outputs": [
    {
     "name": "stdout",
     "output_type": "stream",
     "text": [
      "---w \n",
      "mode---\n",
      "\n",
      "aaaaa234\n",
      "\n"
     ]
    }
   ],
   "source": [
    "'''\n",
    "r：表示文件只能读取\n",
    "w：表示文件只能写入\n",
    "a：表示打开文件，在原有内容的基础上追加内容，在末尾写入\n",
    "w+:表示可以对文件进行读写双重操作\n",
    "'''\n",
    "file = open(\"C:\\\\Users\\\\Johy\\\\Desktop\\\\1.txt\",\"r\") # 小心转义字符\n",
    "print(file.read(5)) # 读取前k字符\n",
    "print(file.readline()) # 读取一行，包括换行符\n",
    "print(file.readlines()[0]) # 读取所有行\n",
    "file.close()"
   ]
  },
  {
   "cell_type": "code",
   "execution_count": 24,
   "id": "9603cb8e-6b49-45e9-a114-8404cdbb2f55",
   "metadata": {},
   "outputs": [
    {
     "name": "stdout",
     "output_type": "stream",
     "text": [
      "---w mode---\n",
      "aaaaa234\n",
      "---a mode---\n",
      "123 123\n",
      "456\n",
      "666\n",
      "333 qwe\n"
     ]
    }
   ],
   "source": [
    "# 使用 with 关键字,优点是当子句体结束后文件会正确关闭，即使在某个时刻引发了异常。\n",
    "with open(\"C:\\\\Users\\\\Johy\\\\Desktop\\\\1.txt\",\"w\") as file:\n",
    "    file.write(\"---w mode---\\naaaaa234\\n\")\n",
    "    \n",
    "with open(\"C:\\\\Users\\\\Johy\\\\Desktop\\\\1.txt\",\"a\") as file1:\n",
    "    file1.write(\"---a mode---\\n123 123\\n456\\n666\\n333 qwe\")\n",
    "    file1.close()\n",
    "    \n",
    "with open(\"C:\\\\Users\\\\Johy\\\\Desktop\\\\1.txt\",\"r\") as f:\n",
    "    print(f.read())"
   ]
  },
  {
   "cell_type": "markdown",
   "id": "530022e8-d83a-4de0-9253-958a9937eb2c",
   "metadata": {},
   "source": [
    "## 三.函数+模块"
   ]
  },
  {
   "cell_type": "markdown",
   "id": "9e403716-b1ba-4684-b5d5-93d0c94af398",
   "metadata": {},
   "source": [
    "### 1.函数定义、调用"
   ]
  },
  {
   "cell_type": "raw",
   "id": "01815394-e9e9-4c85-a765-820380852898",
   "metadata": {},
   "source": [
    "def 函数名(参数列表):\n",
    "    函数体(4个空格)"
   ]
  },
  {
   "cell_type": "markdown",
   "id": "dca9cc32-a857-480d-940c-206e3ecef36b",
   "metadata": {},
   "source": [
    "- 不使用return，默认无返回"
   ]
  },
  {
   "cell_type": "code",
   "execution_count": 26,
   "id": "be307f2c-5d90-44c1-abe5-900158dfff07",
   "metadata": {},
   "outputs": [
    {
     "name": "stdout",
     "output_type": "stream",
     "text": [
      "hello world\n"
     ]
    }
   ],
   "source": [
    "def func(words):\n",
    "    print(words)\n",
    "func(\"hello world\")"
   ]
  },
  {
   "cell_type": "code",
   "execution_count": 27,
   "id": "e0eae0c2-66d0-4baf-a241-d28ab3ff67f3",
   "metadata": {},
   "outputs": [
    {
     "name": "stdout",
     "output_type": "stream",
     "text": [
      "30\n"
     ]
    }
   ],
   "source": [
    "def multiply(a,b):\n",
    "    return a*b\n",
    "print(multiply(5,6))"
   ]
  },
  {
   "cell_type": "markdown",
   "id": "d64e61c2-1272-48fb-af49-9feaf9fcb23e",
   "metadata": {},
   "source": [
    "## 四.条件、循环"
   ]
  },
  {
   "cell_type": "markdown",
   "id": "201acc53-dc1a-4635-9977-1b0728ced604",
   "metadata": {},
   "source": [
    "### 1.条件"
   ]
  },
  {
   "cell_type": "code",
   "execution_count": 34,
   "id": "f353a534-5f6b-417c-9135-717760d7a88f",
   "metadata": {},
   "outputs": [
    {
     "name": "stdout",
     "output_type": "stream",
     "text": [
      "b>a>c\n"
     ]
    }
   ],
   "source": [
    "a=5\n",
    "b=20\n",
    "c=3\n",
    "if a>b:\n",
    "    if a>c:\n",
    "        print(\"a>b & a>c\")\n",
    "    else :\n",
    "        print(\"c>a>b\")\n",
    "elif a>c:\n",
    "    print(\"b>a>c\")\n",
    "else :\n",
    "    print(\"a<b & a<c\")"
   ]
  },
  {
   "cell_type": "markdown",
   "id": "534128d3-89b8-41e0-aef6-5846192ca0d1",
   "metadata": {},
   "source": [
    "### 2.循环"
   ]
  },
  {
   "cell_type": "markdown",
   "id": "df7b5173-15cc-4dfe-9608-1055ec8aa7e7",
   "metadata": {},
   "source": [
    "#### (1)while"
   ]
  },
  {
   "cell_type": "code",
   "execution_count": 40,
   "id": "e61e91de-9b80-4121-a46d-715e4d382573",
   "metadata": {},
   "outputs": [
    {
     "name": "stdout",
     "output_type": "stream",
     "text": [
      "3\n",
      "2\n",
      "1\n"
     ]
    }
   ],
   "source": [
    "a=3\n",
    "while(a>0):\n",
    "    print(a)\n",
    "    a=a-1"
   ]
  },
  {
   "cell_type": "markdown",
   "id": "2897a06b-9325-4033-b3cb-b10a4fa74eca",
   "metadata": {},
   "source": [
    "#### (2)for"
   ]
  },
  {
   "cell_type": "markdown",
   "id": "62e6c147-a05c-452a-9125-62763b85178e",
   "metadata": {},
   "source": [
    "- sequence可以是任何序列\n",
    "- 如字符串、列表等"
   ]
  },
  {
   "cell_type": "raw",
   "id": "452cc1e1-318f-4012-bee9-e524b2c9d44c",
   "metadata": {},
   "source": [
    "for i in sequence:\n",
    "    statements(s)"
   ]
  },
  {
   "cell_type": "code",
   "execution_count": 45,
   "id": "d35806f6-85c7-45d4-aef9-5dffa04686e2",
   "metadata": {},
   "outputs": [
    {
     "name": "stdout",
     "output_type": "stream",
     "text": [
      "h e l l o   w o r l d ! "
     ]
    }
   ],
   "source": [
    "str = \"hello world!\"\n",
    "for i in str:\n",
    "    print(i, end=\" \")"
   ]
  }
 ],
 "metadata": {
  "kernelspec": {
   "display_name": "Python 3",
   "language": "python",
   "name": "python3"
  },
  "language_info": {
   "codemirror_mode": {
    "name": "ipython",
    "version": 3
   },
   "file_extension": ".py",
   "mimetype": "text/x-python",
   "name": "python",
   "nbconvert_exporter": "python",
   "pygments_lexer": "ipython3",
   "version": "3.8.8"
  }
 },
 "nbformat": 4,
 "nbformat_minor": 5
}
